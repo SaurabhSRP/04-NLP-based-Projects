{
  "nbformat": 4,
  "nbformat_minor": 0,
  "metadata": {
    "colab": {
      "provenance": [],
      "authorship_tag": "ABX9TyMwhWvNuhsS5WRMcXrix2dJ",
      "include_colab_link": true
    },
    "kernelspec": {
      "name": "python3",
      "display_name": "Python 3"
    },
    "language_info": {
      "name": "python"
    },
    "accelerator": "GPU",
    "gpuClass": "standard"
  },
  "cells": [
    {
      "cell_type": "markdown",
      "metadata": {
        "id": "view-in-github",
        "colab_type": "text"
      },
      "source": [
        "<a href=\"https://colab.research.google.com/github/SaurabhSRP/04-NLP-based-Projects/blob/main/Chatbot%20using%20NLTK%20and%20Keras/Chatbot_using_NLTK_and_Keras.ipynb\" target=\"_parent\"><img src=\"https://colab.research.google.com/assets/colab-badge.svg\" alt=\"Open In Colab\"/></a>"
      ]
    },
    {
      "cell_type": "code",
      "execution_count": 1,
      "metadata": {
        "colab": {
          "base_uri": "https://localhost:8080/"
        },
        "id": "OT_R20D505jR",
        "outputId": "ad85f167-5afb-4e48-8827-c002483971b3"
      },
      "outputs": [
        {
          "output_type": "stream",
          "name": "stderr",
          "text": [
            "[nltk_data] Downloading package punkt to /root/nltk_data...\n",
            "[nltk_data]   Unzipping tokenizers/punkt.zip.\n",
            "[nltk_data] Downloading package wordnet to /root/nltk_data...\n",
            "[nltk_data] Downloading package omw-1.4 to /root/nltk_data...\n"
          ]
        }
      ],
      "source": [
        "import nltk\n",
        "nltk.download(\"punkt\") #used for tokenization\n",
        "nltk.download('wordnet') #used for lemmatization\n",
        "nltk.download('omw-1.4')\n",
        "from nltk.stem import WordNetLemmatizer\n",
        "lemmatizer=WordNetLemmatizer()\n",
        "import json\n",
        "import pickle\n",
        "import numpy as np\n",
        "\n",
        "\n",
        "from keras.models import Sequential\n",
        "from keras.layers import Dense, Activation, Dropout\n",
        "from keras.optimizers import SGD\n",
        "from keras.models import load_model\n",
        "import random"
      ]
    },
    {
      "cell_type": "code",
      "source": [
        "##load our JSON file\n",
        "json_file=open('/content/intents.json')\n",
        "intents=json.load(json_file)"
      ],
      "metadata": {
        "id": "UdAECZI04A4f"
      },
      "execution_count": 2,
      "outputs": []
    },
    {
      "cell_type": "code",
      "source": [
        "intents"
      ],
      "metadata": {
        "colab": {
          "base_uri": "https://localhost:8080/"
        },
        "id": "bO8dxCHW4Ax5",
        "outputId": "c9eba2fa-216f-42f4-b7e2-f903019fb7de"
      },
      "execution_count": 3,
      "outputs": [
        {
          "output_type": "execute_result",
          "data": {
            "text/plain": [
              "{'intents': [{'tag': 'greeting',\n",
              "   'patterns': ['Hi there',\n",
              "    'How are you',\n",
              "    'Is anyone there?',\n",
              "    'Hey',\n",
              "    'Hola',\n",
              "    'Hello',\n",
              "    'Good day'],\n",
              "   'responses': ['Hello, thanks for asking',\n",
              "    'Good to see you again',\n",
              "    'Hi there, how can I help?'],\n",
              "   'context': ['']},\n",
              "  {'tag': 'goodbye',\n",
              "   'patterns': ['Bye',\n",
              "    'See you later',\n",
              "    'Goodbye',\n",
              "    'Nice chatting to you, bye',\n",
              "    'Till next time'],\n",
              "   'responses': ['See you!', 'Have a nice day', 'Bye! Come back again soon.'],\n",
              "   'context': ['']},\n",
              "  {'tag': 'thanks',\n",
              "   'patterns': ['Thanks',\n",
              "    'Thank you',\n",
              "    \"That's helpful\",\n",
              "    'Awesome, thanks',\n",
              "    'Thanks for helping me'],\n",
              "   'responses': ['Happy to help!', 'Any time!', 'My pleasure'],\n",
              "   'context': ['']},\n",
              "  {'tag': 'noanswer',\n",
              "   'patterns': [],\n",
              "   'responses': [\"Sorry, can't understand you\",\n",
              "    'Please give me more info',\n",
              "    'Not sure I understand'],\n",
              "   'context': ['']},\n",
              "  {'tag': 'options',\n",
              "   'patterns': ['How you could help me?',\n",
              "    'What you can do?',\n",
              "    'What help you provide?',\n",
              "    'How you can be helpful?',\n",
              "    'What support is offered'],\n",
              "   'responses': ['I can guide you through Adverse drug reaction list, Blood pressure tracking, Hospitals and Pharmacies',\n",
              "    'Offering support for Adverse drug reaction, Blood pressure, Hospitals and Pharmacies'],\n",
              "   'context': ['']},\n",
              "  {'tag': 'adverse_drug',\n",
              "   'patterns': ['How to check Adverse drug reaction?',\n",
              "    'Open adverse drugs module',\n",
              "    'Give me a list of drugs causing adverse behavior',\n",
              "    'List all drugs suitable for patient with adverse reaction',\n",
              "    'Which drugs dont have adverse reaction?'],\n",
              "   'responses': ['Navigating to Adverse drug reaction module'],\n",
              "   'context': ['']},\n",
              "  {'tag': 'blood_pressure',\n",
              "   'patterns': ['Open blood pressure module',\n",
              "    'Task related to blood pressure',\n",
              "    'Blood pressure data entry',\n",
              "    'I want to log blood pressure results',\n",
              "    'Blood pressure data management'],\n",
              "   'responses': ['Navigating to Blood Pressure module'],\n",
              "   'context': ['']},\n",
              "  {'tag': 'blood_pressure_search',\n",
              "   'patterns': ['I want to search for blood pressure result history',\n",
              "    'Blood pressure for patient',\n",
              "    'Load patient blood pressure result',\n",
              "    'Show blood pressure results for patient',\n",
              "    'Find blood pressure results by ID'],\n",
              "   'responses': ['Please provide Patient ID', 'Patient ID?'],\n",
              "   'context': ['search_blood_pressure_by_patient_id']},\n",
              "  {'tag': 'search_blood_pressure_by_patient_id',\n",
              "   'patterns': [],\n",
              "   'responses': ['Loading Blood pressure result for Patient'],\n",
              "   'context': ['']},\n",
              "  {'tag': 'pharmacy_search',\n",
              "   'patterns': ['Find me a pharmacy',\n",
              "    'Find pharmacy',\n",
              "    'List of pharmacies nearby',\n",
              "    'Locate pharmacy',\n",
              "    'Search pharmacy'],\n",
              "   'responses': ['Please provide pharmacy name'],\n",
              "   'context': ['search_pharmacy_by_name']},\n",
              "  {'tag': 'search_pharmacy_by_name',\n",
              "   'patterns': [],\n",
              "   'responses': ['Loading pharmacy details'],\n",
              "   'context': ['']},\n",
              "  {'tag': 'hospital_search',\n",
              "   'patterns': ['Lookup for hospital',\n",
              "    'Searching for hospital to transfer patient',\n",
              "    'I want to search hospital data',\n",
              "    'Hospital lookup for patient',\n",
              "    'Looking up hospital details'],\n",
              "   'responses': ['Please provide hospital name or location'],\n",
              "   'context': ['search_hospital_by_params']},\n",
              "  {'tag': 'search_hospital_by_params',\n",
              "   'patterns': [],\n",
              "   'responses': ['Please provide hospital type'],\n",
              "   'context': ['search_hospital_by_type']},\n",
              "  {'tag': 'search_hospital_by_type',\n",
              "   'patterns': [],\n",
              "   'responses': ['Loading hospital details'],\n",
              "   'context': ['']}]}"
            ]
          },
          "metadata": {},
          "execution_count": 3
        }
      ]
    },
    {
      "cell_type": "markdown",
      "source": [
        "#**Preprocess the data**"
      ],
      "metadata": {
        "id": "FF48e22q4kW1"
      }
    },
    {
      "cell_type": "code",
      "source": [
        "words=[] #this list consists of patterns\n",
        "classes=[] #this list consists of Tags\n",
        "documents=[]\n",
        "ignore_punctuation=['?','!',',']\n"
      ],
      "metadata": {
        "id": "l1wg4MOl1kF4"
      },
      "execution_count": 4,
      "outputs": []
    },
    {
      "cell_type": "code",
      "source": [
        "for intent in intents['intents']:\n",
        "  for pattern in intent['patterns']:\n",
        "    #tokenize\n",
        "    word_token=nltk.word_tokenize(pattern)\n",
        "    words.extend(word_token) ##adding words to words=[] list\n",
        "    documents.append((word_token,intent['tag']))\n",
        "\n",
        "    if intent['tag'] not in classes:\n",
        "      classes.append(intent['tag'])  ##adding all tags to classes=[] list\n"
      ],
      "metadata": {
        "id": "XR4L-ukj4fCM"
      },
      "execution_count": 5,
      "outputs": []
    },
    {
      "cell_type": "code",
      "source": [
        "print(documents)"
      ],
      "metadata": {
        "colab": {
          "base_uri": "https://localhost:8080/"
        },
        "id": "Y237sNYp52-O",
        "outputId": "29847990-e5cb-482c-9bc2-1cd38385adff"
      },
      "execution_count": 6,
      "outputs": [
        {
          "output_type": "stream",
          "name": "stdout",
          "text": [
            "[(['Hi', 'there'], 'greeting'), (['How', 'are', 'you'], 'greeting'), (['Is', 'anyone', 'there', '?'], 'greeting'), (['Hey'], 'greeting'), (['Hola'], 'greeting'), (['Hello'], 'greeting'), (['Good', 'day'], 'greeting'), (['Bye'], 'goodbye'), (['See', 'you', 'later'], 'goodbye'), (['Goodbye'], 'goodbye'), (['Nice', 'chatting', 'to', 'you', ',', 'bye'], 'goodbye'), (['Till', 'next', 'time'], 'goodbye'), (['Thanks'], 'thanks'), (['Thank', 'you'], 'thanks'), (['That', \"'s\", 'helpful'], 'thanks'), (['Awesome', ',', 'thanks'], 'thanks'), (['Thanks', 'for', 'helping', 'me'], 'thanks'), (['How', 'you', 'could', 'help', 'me', '?'], 'options'), (['What', 'you', 'can', 'do', '?'], 'options'), (['What', 'help', 'you', 'provide', '?'], 'options'), (['How', 'you', 'can', 'be', 'helpful', '?'], 'options'), (['What', 'support', 'is', 'offered'], 'options'), (['How', 'to', 'check', 'Adverse', 'drug', 'reaction', '?'], 'adverse_drug'), (['Open', 'adverse', 'drugs', 'module'], 'adverse_drug'), (['Give', 'me', 'a', 'list', 'of', 'drugs', 'causing', 'adverse', 'behavior'], 'adverse_drug'), (['List', 'all', 'drugs', 'suitable', 'for', 'patient', 'with', 'adverse', 'reaction'], 'adverse_drug'), (['Which', 'drugs', 'dont', 'have', 'adverse', 'reaction', '?'], 'adverse_drug'), (['Open', 'blood', 'pressure', 'module'], 'blood_pressure'), (['Task', 'related', 'to', 'blood', 'pressure'], 'blood_pressure'), (['Blood', 'pressure', 'data', 'entry'], 'blood_pressure'), (['I', 'want', 'to', 'log', 'blood', 'pressure', 'results'], 'blood_pressure'), (['Blood', 'pressure', 'data', 'management'], 'blood_pressure'), (['I', 'want', 'to', 'search', 'for', 'blood', 'pressure', 'result', 'history'], 'blood_pressure_search'), (['Blood', 'pressure', 'for', 'patient'], 'blood_pressure_search'), (['Load', 'patient', 'blood', 'pressure', 'result'], 'blood_pressure_search'), (['Show', 'blood', 'pressure', 'results', 'for', 'patient'], 'blood_pressure_search'), (['Find', 'blood', 'pressure', 'results', 'by', 'ID'], 'blood_pressure_search'), (['Find', 'me', 'a', 'pharmacy'], 'pharmacy_search'), (['Find', 'pharmacy'], 'pharmacy_search'), (['List', 'of', 'pharmacies', 'nearby'], 'pharmacy_search'), (['Locate', 'pharmacy'], 'pharmacy_search'), (['Search', 'pharmacy'], 'pharmacy_search'), (['Lookup', 'for', 'hospital'], 'hospital_search'), (['Searching', 'for', 'hospital', 'to', 'transfer', 'patient'], 'hospital_search'), (['I', 'want', 'to', 'search', 'hospital', 'data'], 'hospital_search'), (['Hospital', 'lookup', 'for', 'patient'], 'hospital_search'), (['Looking', 'up', 'hospital', 'details'], 'hospital_search')]\n"
          ]
        }
      ]
    },
    {
      "cell_type": "code",
      "source": [
        "classes "
      ],
      "metadata": {
        "colab": {
          "base_uri": "https://localhost:8080/"
        },
        "id": "7ixa_PdZ54Zo",
        "outputId": "3a97999d-44a0-456a-82f2-ae83b86cb5eb"
      },
      "execution_count": 7,
      "outputs": [
        {
          "output_type": "execute_result",
          "data": {
            "text/plain": [
              "['greeting',\n",
              " 'goodbye',\n",
              " 'thanks',\n",
              " 'options',\n",
              " 'adverse_drug',\n",
              " 'blood_pressure',\n",
              " 'blood_pressure_search',\n",
              " 'pharmacy_search',\n",
              " 'hospital_search']"
            ]
          },
          "metadata": {},
          "execution_count": 7
        }
      ]
    },
    {
      "cell_type": "code",
      "source": [
        "##Lemmatize,lower each word,remove duplicates and punctuation\n",
        "words=[lemmatizer.lemmatize(word.lower()) for word in words if word not in ignore_punctuation]\n",
        "words=sorted(list(set(words))) #set will remove all duplicates and give us a list of all unique words"
      ],
      "metadata": {
        "id": "BEWeGwGK7mZm"
      },
      "execution_count": 8,
      "outputs": []
    },
    {
      "cell_type": "code",
      "source": [
        "#Sort the classes\n",
        "classes=sorted(list(set(classes)))"
      ],
      "metadata": {
        "id": "gMLCTkWo87sl"
      },
      "execution_count": 9,
      "outputs": []
    },
    {
      "cell_type": "code",
      "source": [
        "##Pickle them for later use\n",
        "pickle.dump(words,open('words.pkl','wb'))\n",
        "pickle.dump(classes,open('classes.pkl','wb'))"
      ],
      "metadata": {
        "id": "w1WstYEI9C_Y"
      },
      "execution_count": 10,
      "outputs": []
    },
    {
      "cell_type": "markdown",
      "source": [
        "#**Create train and test data**"
      ],
      "metadata": {
        "id": "notTYuLi95WT"
      }
    },
    {
      "cell_type": "code",
      "source": [
        "train=[]\n",
        "#create empty array for output\n",
        "output_empty=[0]*len(classes)\n",
        "\n",
        "for doc in documents:\n",
        "  bow=[]  #initialize bag of words\n",
        "  pattern_words=doc[0] #doc[0] takes only the pattern from documents list\n",
        "  pattern_words=[lemmatizer.lemmatize(word.lower()) for word in pattern_words]\n",
        "  #create BOW array with 1 if word match found in current patten\n",
        "  for w in words:\n",
        "    bow.append(1) if w in pattern_words else bow.append(0) \n",
        "\n",
        "\n",
        "  output_row=list(output_empty)\n",
        "  output_row[classes.index(doc[1])]=1 #output is zero for each tag and '1' for current tag for each pattern\n",
        "\n",
        "  train.append([bow,output_row])"
      ],
      "metadata": {
        "id": "mdu9d2ZY92Tc"
      },
      "execution_count": 11,
      "outputs": []
    },
    {
      "cell_type": "code",
      "source": [
        "# shuffle our features and turn into np.array\n",
        "random.shuffle(train)\n",
        "train = np.array(train)\n",
        "# create train and test lists. X - patterns, Y - intents\n",
        "X_train = list(train[:,0])\n",
        "y_train = list(train[:,1])"
      ],
      "metadata": {
        "colab": {
          "base_uri": "https://localhost:8080/"
        },
        "id": "jFc0k13gLr4V",
        "outputId": "d7b67347-780f-4a57-ed21-ca9915b8e058"
      },
      "execution_count": 12,
      "outputs": [
        {
          "output_type": "stream",
          "name": "stderr",
          "text": [
            "<ipython-input-12-e724dcc6fa71>:3: VisibleDeprecationWarning: Creating an ndarray from ragged nested sequences (which is a list-or-tuple of lists-or-tuples-or ndarrays with different lengths or shapes) is deprecated. If you meant to do this, you must specify 'dtype=object' when creating the ndarray.\n",
            "  train = np.array(train)\n"
          ]
        }
      ]
    },
    {
      "cell_type": "markdown",
      "source": [
        "#**Build Neural Network**"
      ],
      "metadata": {
        "id": "5M7oLS75M_Kn"
      }
    },
    {
      "cell_type": "code",
      "source": [
        "model = Sequential()\n",
        "model.add(Dense(128, input_shape=(len(X_train[0]),), activation='relu'))\n",
        "model.add(Dropout(0.5))\n",
        "model.add(Dense(64, activation='relu'))\n",
        "model.add(Dropout(0.5))\n",
        "model.add(Dense(len(y_train[0]), activation='softmax'))\n",
        "# Compile model. Stochastic gradient descent with Nesterov accelerated gradient gives good results for this model\n",
        "sgd = SGD(lr=0.01, decay=1e-6, momentum=0.9, nesterov=True)\n",
        "model.compile(loss='categorical_crossentropy', optimizer=sgd, metrics=['accuracy'])\n",
        "#fitting and saving the model \n",
        "hist = model.fit(np.array(X_train), np.array(y_train), epochs=200, batch_size=5, verbose=1)\n",
        "model.save('chatbot_model.h5', hist)"
      ],
      "metadata": {
        "colab": {
          "base_uri": "https://localhost:8080/"
        },
        "id": "FbF7aKE-M8dU",
        "outputId": "e63cbedb-9351-4e2c-8efb-7573f424b38e"
      },
      "execution_count": 13,
      "outputs": [
        {
          "output_type": "stream",
          "name": "stdout",
          "text": [
            "Epoch 1/200\n"
          ]
        },
        {
          "output_type": "stream",
          "name": "stderr",
          "text": [
            "/usr/local/lib/python3.8/dist-packages/keras/optimizers/optimizer_v2/gradient_descent.py:108: UserWarning: The `lr` argument is deprecated, use `learning_rate` instead.\n",
            "  super(SGD, self).__init__(name, **kwargs)\n"
          ]
        },
        {
          "output_type": "stream",
          "name": "stdout",
          "text": [
            "10/10 [==============================] - 3s 3ms/step - loss: 2.2582 - accuracy: 0.0851\n",
            "Epoch 2/200\n",
            "10/10 [==============================] - 0s 3ms/step - loss: 2.1688 - accuracy: 0.1702\n",
            "Epoch 3/200\n",
            "10/10 [==============================] - 0s 4ms/step - loss: 2.1105 - accuracy: 0.1277\n",
            "Epoch 4/200\n",
            "10/10 [==============================] - 0s 3ms/step - loss: 2.0103 - accuracy: 0.3191\n",
            "Epoch 5/200\n",
            "10/10 [==============================] - 0s 3ms/step - loss: 1.8623 - accuracy: 0.3617\n",
            "Epoch 6/200\n",
            "10/10 [==============================] - 0s 3ms/step - loss: 1.8274 - accuracy: 0.4894\n",
            "Epoch 7/200\n",
            "10/10 [==============================] - 0s 3ms/step - loss: 1.7440 - accuracy: 0.4681\n",
            "Epoch 8/200\n",
            "10/10 [==============================] - 0s 3ms/step - loss: 1.5093 - accuracy: 0.6596\n",
            "Epoch 9/200\n",
            "10/10 [==============================] - 0s 3ms/step - loss: 1.4612 - accuracy: 0.5957\n",
            "Epoch 10/200\n",
            "10/10 [==============================] - 0s 3ms/step - loss: 1.3099 - accuracy: 0.5957\n",
            "Epoch 11/200\n",
            "10/10 [==============================] - 0s 4ms/step - loss: 1.2388 - accuracy: 0.7021\n",
            "Epoch 12/200\n",
            "10/10 [==============================] - 0s 3ms/step - loss: 1.1626 - accuracy: 0.6383\n",
            "Epoch 13/200\n",
            "10/10 [==============================] - 0s 3ms/step - loss: 0.9062 - accuracy: 0.7447\n",
            "Epoch 14/200\n",
            "10/10 [==============================] - 0s 3ms/step - loss: 0.9442 - accuracy: 0.7021\n",
            "Epoch 15/200\n",
            "10/10 [==============================] - 0s 3ms/step - loss: 0.9537 - accuracy: 0.7234\n",
            "Epoch 16/200\n",
            "10/10 [==============================] - 0s 3ms/step - loss: 0.6548 - accuracy: 0.7872\n",
            "Epoch 17/200\n",
            "10/10 [==============================] - 0s 3ms/step - loss: 0.5538 - accuracy: 0.8723\n",
            "Epoch 18/200\n",
            "10/10 [==============================] - 0s 3ms/step - loss: 0.7810 - accuracy: 0.7660\n",
            "Epoch 19/200\n",
            "10/10 [==============================] - 0s 3ms/step - loss: 0.6011 - accuracy: 0.8511\n",
            "Epoch 20/200\n",
            "10/10 [==============================] - 0s 3ms/step - loss: 0.5491 - accuracy: 0.8511\n",
            "Epoch 21/200\n",
            "10/10 [==============================] - 0s 3ms/step - loss: 0.6027 - accuracy: 0.8298\n",
            "Epoch 22/200\n",
            "10/10 [==============================] - 0s 3ms/step - loss: 0.4981 - accuracy: 0.8511\n",
            "Epoch 23/200\n",
            "10/10 [==============================] - 0s 3ms/step - loss: 0.4548 - accuracy: 0.9149\n",
            "Epoch 24/200\n",
            "10/10 [==============================] - 0s 3ms/step - loss: 0.4422 - accuracy: 0.8511\n",
            "Epoch 25/200\n",
            "10/10 [==============================] - 0s 3ms/step - loss: 0.3490 - accuracy: 0.8511\n",
            "Epoch 26/200\n",
            "10/10 [==============================] - 0s 3ms/step - loss: 0.3897 - accuracy: 0.8723\n",
            "Epoch 27/200\n",
            "10/10 [==============================] - 0s 4ms/step - loss: 0.2566 - accuracy: 0.9362\n",
            "Epoch 28/200\n",
            "10/10 [==============================] - 0s 3ms/step - loss: 0.2413 - accuracy: 0.9574\n",
            "Epoch 29/200\n",
            "10/10 [==============================] - 0s 3ms/step - loss: 0.2291 - accuracy: 0.9362\n",
            "Epoch 30/200\n",
            "10/10 [==============================] - 0s 3ms/step - loss: 0.2722 - accuracy: 0.9574\n",
            "Epoch 31/200\n",
            "10/10 [==============================] - 0s 3ms/step - loss: 0.1941 - accuracy: 0.9574\n",
            "Epoch 32/200\n",
            "10/10 [==============================] - 0s 3ms/step - loss: 0.2736 - accuracy: 0.9149\n",
            "Epoch 33/200\n",
            "10/10 [==============================] - 0s 3ms/step - loss: 0.2314 - accuracy: 0.9574\n",
            "Epoch 34/200\n",
            "10/10 [==============================] - 0s 3ms/step - loss: 0.1871 - accuracy: 0.9787\n",
            "Epoch 35/200\n",
            "10/10 [==============================] - 0s 4ms/step - loss: 0.2996 - accuracy: 0.9149\n",
            "Epoch 36/200\n",
            "10/10 [==============================] - 0s 3ms/step - loss: 0.1061 - accuracy: 1.0000\n",
            "Epoch 37/200\n",
            "10/10 [==============================] - 0s 3ms/step - loss: 0.1215 - accuracy: 1.0000\n",
            "Epoch 38/200\n",
            "10/10 [==============================] - 0s 3ms/step - loss: 0.1633 - accuracy: 1.0000\n",
            "Epoch 39/200\n",
            "10/10 [==============================] - 0s 3ms/step - loss: 0.1480 - accuracy: 0.9574\n",
            "Epoch 40/200\n",
            "10/10 [==============================] - 0s 3ms/step - loss: 0.1703 - accuracy: 0.9787\n",
            "Epoch 41/200\n",
            "10/10 [==============================] - 0s 3ms/step - loss: 0.2143 - accuracy: 0.9362\n",
            "Epoch 42/200\n",
            "10/10 [==============================] - 0s 3ms/step - loss: 0.1065 - accuracy: 1.0000\n",
            "Epoch 43/200\n",
            "10/10 [==============================] - 0s 3ms/step - loss: 0.0769 - accuracy: 1.0000\n",
            "Epoch 44/200\n",
            "10/10 [==============================] - 0s 3ms/step - loss: 0.1299 - accuracy: 0.9787\n",
            "Epoch 45/200\n",
            "10/10 [==============================] - 0s 3ms/step - loss: 0.1642 - accuracy: 0.9574\n",
            "Epoch 46/200\n",
            "10/10 [==============================] - 0s 3ms/step - loss: 0.1117 - accuracy: 0.9787\n",
            "Epoch 47/200\n",
            "10/10 [==============================] - 0s 3ms/step - loss: 0.1782 - accuracy: 0.9574\n",
            "Epoch 48/200\n",
            "10/10 [==============================] - 0s 3ms/step - loss: 0.1501 - accuracy: 0.9787\n",
            "Epoch 49/200\n",
            "10/10 [==============================] - 0s 3ms/step - loss: 0.0990 - accuracy: 0.9787\n",
            "Epoch 50/200\n",
            "10/10 [==============================] - 0s 3ms/step - loss: 0.0926 - accuracy: 1.0000\n",
            "Epoch 51/200\n",
            "10/10 [==============================] - 0s 4ms/step - loss: 0.1477 - accuracy: 0.9787\n",
            "Epoch 52/200\n",
            "10/10 [==============================] - 0s 3ms/step - loss: 0.0639 - accuracy: 1.0000\n",
            "Epoch 53/200\n",
            "10/10 [==============================] - 0s 3ms/step - loss: 0.0363 - accuracy: 1.0000\n",
            "Epoch 54/200\n",
            "10/10 [==============================] - 0s 3ms/step - loss: 0.0497 - accuracy: 1.0000\n",
            "Epoch 55/200\n",
            "10/10 [==============================] - 0s 3ms/step - loss: 0.0527 - accuracy: 1.0000\n",
            "Epoch 56/200\n",
            "10/10 [==============================] - 0s 3ms/step - loss: 0.1118 - accuracy: 0.9787\n",
            "Epoch 57/200\n",
            "10/10 [==============================] - 0s 3ms/step - loss: 0.0690 - accuracy: 0.9787\n",
            "Epoch 58/200\n",
            "10/10 [==============================] - 0s 3ms/step - loss: 0.1631 - accuracy: 0.9362\n",
            "Epoch 59/200\n",
            "10/10 [==============================] - 0s 3ms/step - loss: 0.0762 - accuracy: 1.0000\n",
            "Epoch 60/200\n",
            "10/10 [==============================] - 0s 3ms/step - loss: 0.0872 - accuracy: 0.9787\n",
            "Epoch 61/200\n",
            "10/10 [==============================] - 0s 3ms/step - loss: 0.1259 - accuracy: 0.9574\n",
            "Epoch 62/200\n",
            "10/10 [==============================] - 0s 3ms/step - loss: 0.0267 - accuracy: 1.0000\n",
            "Epoch 63/200\n",
            "10/10 [==============================] - 0s 3ms/step - loss: 0.1054 - accuracy: 0.9574\n",
            "Epoch 64/200\n",
            "10/10 [==============================] - 0s 3ms/step - loss: 0.1356 - accuracy: 0.9574\n",
            "Epoch 65/200\n",
            "10/10 [==============================] - 0s 3ms/step - loss: 0.0739 - accuracy: 1.0000\n",
            "Epoch 66/200\n",
            "10/10 [==============================] - 0s 3ms/step - loss: 0.0719 - accuracy: 1.0000\n",
            "Epoch 67/200\n",
            "10/10 [==============================] - 0s 3ms/step - loss: 0.0491 - accuracy: 1.0000\n",
            "Epoch 68/200\n",
            "10/10 [==============================] - 0s 3ms/step - loss: 0.0892 - accuracy: 0.9787\n",
            "Epoch 69/200\n",
            "10/10 [==============================] - 0s 3ms/step - loss: 0.0316 - accuracy: 0.9787\n",
            "Epoch 70/200\n",
            "10/10 [==============================] - 0s 3ms/step - loss: 0.0679 - accuracy: 0.9787\n",
            "Epoch 71/200\n",
            "10/10 [==============================] - 0s 3ms/step - loss: 0.0768 - accuracy: 1.0000\n",
            "Epoch 72/200\n",
            "10/10 [==============================] - 0s 3ms/step - loss: 0.1029 - accuracy: 0.9787\n",
            "Epoch 73/200\n",
            "10/10 [==============================] - 0s 3ms/step - loss: 0.0960 - accuracy: 0.9574\n",
            "Epoch 74/200\n",
            "10/10 [==============================] - 0s 3ms/step - loss: 0.1202 - accuracy: 0.9787\n",
            "Epoch 75/200\n",
            "10/10 [==============================] - 0s 3ms/step - loss: 0.0308 - accuracy: 1.0000\n",
            "Epoch 76/200\n",
            "10/10 [==============================] - 0s 3ms/step - loss: 0.1049 - accuracy: 0.9787\n",
            "Epoch 77/200\n",
            "10/10 [==============================] - 0s 3ms/step - loss: 0.0866 - accuracy: 1.0000\n",
            "Epoch 78/200\n",
            "10/10 [==============================] - 0s 3ms/step - loss: 0.0592 - accuracy: 1.0000\n",
            "Epoch 79/200\n",
            "10/10 [==============================] - 0s 3ms/step - loss: 0.0713 - accuracy: 1.0000\n",
            "Epoch 80/200\n",
            "10/10 [==============================] - 0s 3ms/step - loss: 0.0575 - accuracy: 0.9787\n",
            "Epoch 81/200\n",
            "10/10 [==============================] - 0s 3ms/step - loss: 0.0508 - accuracy: 0.9787\n",
            "Epoch 82/200\n",
            "10/10 [==============================] - 0s 4ms/step - loss: 0.0888 - accuracy: 0.9574\n",
            "Epoch 83/200\n",
            "10/10 [==============================] - 0s 5ms/step - loss: 0.0629 - accuracy: 0.9787\n",
            "Epoch 84/200\n",
            "10/10 [==============================] - 0s 3ms/step - loss: 0.0909 - accuracy: 0.9787\n",
            "Epoch 85/200\n",
            "10/10 [==============================] - 0s 3ms/step - loss: 0.0155 - accuracy: 1.0000\n",
            "Epoch 86/200\n",
            "10/10 [==============================] - 0s 3ms/step - loss: 0.0217 - accuracy: 1.0000\n",
            "Epoch 87/200\n",
            "10/10 [==============================] - 0s 3ms/step - loss: 0.0859 - accuracy: 0.9787\n",
            "Epoch 88/200\n",
            "10/10 [==============================] - 0s 3ms/step - loss: 0.0324 - accuracy: 1.0000\n",
            "Epoch 89/200\n",
            "10/10 [==============================] - 0s 4ms/step - loss: 0.1043 - accuracy: 0.9574\n",
            "Epoch 90/200\n",
            "10/10 [==============================] - 0s 3ms/step - loss: 0.0234 - accuracy: 1.0000\n",
            "Epoch 91/200\n",
            "10/10 [==============================] - 0s 3ms/step - loss: 0.0163 - accuracy: 1.0000\n",
            "Epoch 92/200\n",
            "10/10 [==============================] - 0s 3ms/step - loss: 0.0534 - accuracy: 0.9787\n",
            "Epoch 93/200\n",
            "10/10 [==============================] - 0s 3ms/step - loss: 0.0234 - accuracy: 1.0000\n",
            "Epoch 94/200\n",
            "10/10 [==============================] - 0s 3ms/step - loss: 0.0699 - accuracy: 0.9787\n",
            "Epoch 95/200\n",
            "10/10 [==============================] - 0s 3ms/step - loss: 0.0614 - accuracy: 0.9787\n",
            "Epoch 96/200\n",
            "10/10 [==============================] - 0s 3ms/step - loss: 0.0670 - accuracy: 1.0000\n",
            "Epoch 97/200\n",
            "10/10 [==============================] - 0s 3ms/step - loss: 0.0644 - accuracy: 1.0000\n",
            "Epoch 98/200\n",
            "10/10 [==============================] - 0s 3ms/step - loss: 0.0619 - accuracy: 0.9787\n",
            "Epoch 99/200\n",
            "10/10 [==============================] - 0s 3ms/step - loss: 0.0115 - accuracy: 1.0000\n",
            "Epoch 100/200\n",
            "10/10 [==============================] - 0s 3ms/step - loss: 0.0607 - accuracy: 0.9787\n",
            "Epoch 101/200\n",
            "10/10 [==============================] - 0s 3ms/step - loss: 0.0289 - accuracy: 1.0000\n",
            "Epoch 102/200\n",
            "10/10 [==============================] - 0s 3ms/step - loss: 0.0273 - accuracy: 1.0000\n",
            "Epoch 103/200\n",
            "10/10 [==============================] - 0s 3ms/step - loss: 0.0185 - accuracy: 1.0000\n",
            "Epoch 104/200\n",
            "10/10 [==============================] - 0s 3ms/step - loss: 0.0087 - accuracy: 1.0000\n",
            "Epoch 105/200\n",
            "10/10 [==============================] - 0s 3ms/step - loss: 0.0148 - accuracy: 1.0000\n",
            "Epoch 106/200\n",
            "10/10 [==============================] - 0s 3ms/step - loss: 0.0568 - accuracy: 0.9787\n",
            "Epoch 107/200\n",
            "10/10 [==============================] - 0s 3ms/step - loss: 0.0201 - accuracy: 1.0000\n",
            "Epoch 108/200\n",
            "10/10 [==============================] - 0s 3ms/step - loss: 0.0256 - accuracy: 1.0000\n",
            "Epoch 109/200\n",
            "10/10 [==============================] - 0s 4ms/step - loss: 0.0487 - accuracy: 1.0000\n",
            "Epoch 110/200\n",
            "10/10 [==============================] - 0s 3ms/step - loss: 0.0157 - accuracy: 1.0000\n",
            "Epoch 111/200\n",
            "10/10 [==============================] - 0s 3ms/step - loss: 0.0171 - accuracy: 1.0000\n",
            "Epoch 112/200\n",
            "10/10 [==============================] - 0s 3ms/step - loss: 0.0099 - accuracy: 1.0000\n",
            "Epoch 113/200\n",
            "10/10 [==============================] - 0s 3ms/step - loss: 0.0141 - accuracy: 1.0000\n",
            "Epoch 114/200\n",
            "10/10 [==============================] - 0s 3ms/step - loss: 0.0204 - accuracy: 1.0000\n",
            "Epoch 115/200\n",
            "10/10 [==============================] - 0s 3ms/step - loss: 0.0216 - accuracy: 1.0000\n",
            "Epoch 116/200\n",
            "10/10 [==============================] - 0s 3ms/step - loss: 0.0164 - accuracy: 1.0000\n",
            "Epoch 117/200\n",
            "10/10 [==============================] - 0s 3ms/step - loss: 0.0243 - accuracy: 1.0000\n",
            "Epoch 118/200\n",
            "10/10 [==============================] - 0s 3ms/step - loss: 0.0410 - accuracy: 0.9787\n",
            "Epoch 119/200\n",
            "10/10 [==============================] - 0s 3ms/step - loss: 0.0460 - accuracy: 0.9787\n",
            "Epoch 120/200\n",
            "10/10 [==============================] - 0s 3ms/step - loss: 0.0418 - accuracy: 0.9787\n",
            "Epoch 121/200\n",
            "10/10 [==============================] - 0s 3ms/step - loss: 0.0654 - accuracy: 0.9787\n",
            "Epoch 122/200\n",
            "10/10 [==============================] - 0s 3ms/step - loss: 0.0091 - accuracy: 1.0000\n",
            "Epoch 123/200\n",
            "10/10 [==============================] - 0s 3ms/step - loss: 0.0181 - accuracy: 1.0000\n",
            "Epoch 124/200\n",
            "10/10 [==============================] - 0s 3ms/step - loss: 0.0301 - accuracy: 1.0000\n",
            "Epoch 125/200\n",
            "10/10 [==============================] - 0s 3ms/step - loss: 0.0364 - accuracy: 0.9787\n",
            "Epoch 126/200\n",
            "10/10 [==============================] - 0s 3ms/step - loss: 0.0199 - accuracy: 1.0000\n",
            "Epoch 127/200\n",
            "10/10 [==============================] - 0s 3ms/step - loss: 0.1084 - accuracy: 0.9574\n",
            "Epoch 128/200\n",
            "10/10 [==============================] - 0s 3ms/step - loss: 0.0722 - accuracy: 0.9787\n",
            "Epoch 129/200\n",
            "10/10 [==============================] - 0s 3ms/step - loss: 0.0218 - accuracy: 1.0000\n",
            "Epoch 130/200\n",
            "10/10 [==============================] - 0s 3ms/step - loss: 0.0178 - accuracy: 1.0000\n",
            "Epoch 131/200\n",
            "10/10 [==============================] - 0s 3ms/step - loss: 0.0318 - accuracy: 0.9787\n",
            "Epoch 132/200\n",
            "10/10 [==============================] - 0s 3ms/step - loss: 0.0245 - accuracy: 1.0000\n",
            "Epoch 133/200\n",
            "10/10 [==============================] - 0s 4ms/step - loss: 0.0768 - accuracy: 0.9787\n",
            "Epoch 134/200\n",
            "10/10 [==============================] - 0s 3ms/step - loss: 0.1025 - accuracy: 0.9787\n",
            "Epoch 135/200\n",
            "10/10 [==============================] - 0s 3ms/step - loss: 0.0163 - accuracy: 1.0000\n",
            "Epoch 136/200\n",
            "10/10 [==============================] - 0s 4ms/step - loss: 0.0189 - accuracy: 1.0000\n",
            "Epoch 137/200\n",
            "10/10 [==============================] - 0s 3ms/step - loss: 0.0260 - accuracy: 1.0000\n",
            "Epoch 138/200\n",
            "10/10 [==============================] - 0s 3ms/step - loss: 0.0308 - accuracy: 1.0000\n",
            "Epoch 139/200\n",
            "10/10 [==============================] - 0s 3ms/step - loss: 0.0147 - accuracy: 1.0000\n",
            "Epoch 140/200\n",
            "10/10 [==============================] - 0s 3ms/step - loss: 0.0133 - accuracy: 1.0000\n",
            "Epoch 141/200\n",
            "10/10 [==============================] - 0s 3ms/step - loss: 0.0123 - accuracy: 1.0000\n",
            "Epoch 142/200\n",
            "10/10 [==============================] - 0s 3ms/step - loss: 0.0081 - accuracy: 1.0000\n",
            "Epoch 143/200\n",
            "10/10 [==============================] - 0s 3ms/step - loss: 0.0540 - accuracy: 0.9787\n",
            "Epoch 144/200\n",
            "10/10 [==============================] - 0s 3ms/step - loss: 0.0486 - accuracy: 1.0000\n",
            "Epoch 145/200\n",
            "10/10 [==============================] - 0s 4ms/step - loss: 0.0194 - accuracy: 1.0000\n",
            "Epoch 146/200\n",
            "10/10 [==============================] - 0s 3ms/step - loss: 0.0162 - accuracy: 1.0000\n",
            "Epoch 147/200\n",
            "10/10 [==============================] - 0s 3ms/step - loss: 0.0392 - accuracy: 1.0000\n",
            "Epoch 148/200\n",
            "10/10 [==============================] - 0s 3ms/step - loss: 0.0422 - accuracy: 0.9787\n",
            "Epoch 149/200\n",
            "10/10 [==============================] - 0s 3ms/step - loss: 0.0059 - accuracy: 1.0000\n",
            "Epoch 150/200\n",
            "10/10 [==============================] - 0s 3ms/step - loss: 0.0166 - accuracy: 1.0000\n",
            "Epoch 151/200\n",
            "10/10 [==============================] - 0s 3ms/step - loss: 0.0215 - accuracy: 1.0000\n",
            "Epoch 152/200\n",
            "10/10 [==============================] - 0s 4ms/step - loss: 0.0037 - accuracy: 1.0000\n",
            "Epoch 153/200\n",
            "10/10 [==============================] - 0s 3ms/step - loss: 0.0202 - accuracy: 1.0000\n",
            "Epoch 154/200\n",
            "10/10 [==============================] - 0s 3ms/step - loss: 0.0566 - accuracy: 0.9787\n",
            "Epoch 155/200\n",
            "10/10 [==============================] - 0s 3ms/step - loss: 0.0105 - accuracy: 1.0000\n",
            "Epoch 156/200\n",
            "10/10 [==============================] - 0s 3ms/step - loss: 0.0228 - accuracy: 1.0000\n",
            "Epoch 157/200\n",
            "10/10 [==============================] - 0s 3ms/step - loss: 0.0081 - accuracy: 1.0000\n",
            "Epoch 158/200\n",
            "10/10 [==============================] - 0s 3ms/step - loss: 0.0098 - accuracy: 1.0000\n",
            "Epoch 159/200\n",
            "10/10 [==============================] - 0s 3ms/step - loss: 0.0085 - accuracy: 1.0000\n",
            "Epoch 160/200\n",
            "10/10 [==============================] - 0s 4ms/step - loss: 0.0321 - accuracy: 1.0000\n",
            "Epoch 161/200\n",
            "10/10 [==============================] - 0s 3ms/step - loss: 0.0353 - accuracy: 0.9787\n",
            "Epoch 162/200\n",
            "10/10 [==============================] - 0s 3ms/step - loss: 0.0143 - accuracy: 1.0000\n",
            "Epoch 163/200\n",
            "10/10 [==============================] - 0s 3ms/step - loss: 0.0261 - accuracy: 0.9787\n",
            "Epoch 164/200\n",
            "10/10 [==============================] - 0s 3ms/step - loss: 0.0163 - accuracy: 1.0000\n",
            "Epoch 165/200\n",
            "10/10 [==============================] - 0s 3ms/step - loss: 0.0188 - accuracy: 1.0000\n",
            "Epoch 166/200\n",
            "10/10 [==============================] - 0s 4ms/step - loss: 0.0452 - accuracy: 0.9787\n",
            "Epoch 167/200\n",
            "10/10 [==============================] - 0s 3ms/step - loss: 0.0962 - accuracy: 0.9787\n",
            "Epoch 168/200\n",
            "10/10 [==============================] - 0s 3ms/step - loss: 0.0142 - accuracy: 1.0000\n",
            "Epoch 169/200\n",
            "10/10 [==============================] - 0s 3ms/step - loss: 0.0356 - accuracy: 0.9787\n",
            "Epoch 170/200\n",
            "10/10 [==============================] - 0s 3ms/step - loss: 0.0059 - accuracy: 1.0000\n",
            "Epoch 171/200\n",
            "10/10 [==============================] - 0s 3ms/step - loss: 0.0078 - accuracy: 1.0000\n",
            "Epoch 172/200\n",
            "10/10 [==============================] - 0s 3ms/step - loss: 0.0061 - accuracy: 1.0000\n",
            "Epoch 173/200\n",
            "10/10 [==============================] - 0s 3ms/step - loss: 0.0141 - accuracy: 1.0000\n",
            "Epoch 174/200\n",
            "10/10 [==============================] - 0s 3ms/step - loss: 0.0048 - accuracy: 1.0000\n",
            "Epoch 175/200\n",
            "10/10 [==============================] - 0s 3ms/step - loss: 0.0426 - accuracy: 1.0000\n",
            "Epoch 176/200\n",
            "10/10 [==============================] - 0s 3ms/step - loss: 0.0229 - accuracy: 1.0000\n",
            "Epoch 177/200\n",
            "10/10 [==============================] - 0s 3ms/step - loss: 0.0085 - accuracy: 1.0000\n",
            "Epoch 178/200\n",
            "10/10 [==============================] - 0s 3ms/step - loss: 0.0112 - accuracy: 1.0000\n",
            "Epoch 179/200\n",
            "10/10 [==============================] - 0s 3ms/step - loss: 0.0034 - accuracy: 1.0000\n",
            "Epoch 180/200\n",
            "10/10 [==============================] - 0s 3ms/step - loss: 0.0169 - accuracy: 1.0000\n",
            "Epoch 181/200\n",
            "10/10 [==============================] - 0s 3ms/step - loss: 0.0028 - accuracy: 1.0000\n",
            "Epoch 182/200\n",
            "10/10 [==============================] - 0s 3ms/step - loss: 0.0052 - accuracy: 1.0000\n",
            "Epoch 183/200\n",
            "10/10 [==============================] - 0s 3ms/step - loss: 0.0269 - accuracy: 0.9787\n",
            "Epoch 184/200\n",
            "10/10 [==============================] - 0s 3ms/step - loss: 0.0274 - accuracy: 0.9787\n",
            "Epoch 185/200\n",
            "10/10 [==============================] - 0s 3ms/step - loss: 0.0088 - accuracy: 1.0000\n",
            "Epoch 186/200\n",
            "10/10 [==============================] - 0s 3ms/step - loss: 0.0243 - accuracy: 1.0000\n",
            "Epoch 187/200\n",
            "10/10 [==============================] - 0s 3ms/step - loss: 0.0172 - accuracy: 1.0000\n",
            "Epoch 188/200\n",
            "10/10 [==============================] - 0s 3ms/step - loss: 0.0134 - accuracy: 1.0000\n",
            "Epoch 189/200\n",
            "10/10 [==============================] - 0s 4ms/step - loss: 0.0068 - accuracy: 1.0000\n",
            "Epoch 190/200\n",
            "10/10 [==============================] - 0s 3ms/step - loss: 0.0401 - accuracy: 0.9787\n",
            "Epoch 191/200\n",
            "10/10 [==============================] - 0s 3ms/step - loss: 0.0311 - accuracy: 1.0000\n",
            "Epoch 192/200\n",
            "10/10 [==============================] - 0s 3ms/step - loss: 0.0662 - accuracy: 0.9787\n",
            "Epoch 193/200\n",
            "10/10 [==============================] - 0s 3ms/step - loss: 0.0118 - accuracy: 1.0000\n",
            "Epoch 194/200\n",
            "10/10 [==============================] - 0s 3ms/step - loss: 0.0056 - accuracy: 1.0000\n",
            "Epoch 195/200\n",
            "10/10 [==============================] - 0s 3ms/step - loss: 0.0129 - accuracy: 1.0000\n",
            "Epoch 196/200\n",
            "10/10 [==============================] - 0s 3ms/step - loss: 0.0141 - accuracy: 1.0000\n",
            "Epoch 197/200\n",
            "10/10 [==============================] - 0s 3ms/step - loss: 0.0681 - accuracy: 0.9574\n",
            "Epoch 198/200\n",
            "10/10 [==============================] - 0s 3ms/step - loss: 0.0200 - accuracy: 1.0000\n",
            "Epoch 199/200\n",
            "10/10 [==============================] - 0s 3ms/step - loss: 0.0225 - accuracy: 1.0000\n",
            "Epoch 200/200\n",
            "10/10 [==============================] - 0s 3ms/step - loss: 0.0560 - accuracy: 0.9787\n"
          ]
        }
      ]
    },
    {
      "cell_type": "markdown",
      "source": [
        "#**Chatbot**"
      ],
      "metadata": {
        "id": "1taz52psPOeU"
      }
    },
    {
      "cell_type": "code",
      "source": [
        "#you can create a seperate file where you can laod all the pickle dumps such as \n",
        "#intents = json.loads(open('intents.json').read())\n",
        "#words = pickle.load(open('words.pkl','rb'))\n",
        "#classes = pickle.load(open('classes.pkl','rb'))"
      ],
      "metadata": {
        "id": "KZsc6QUvODVX"
      },
      "execution_count": 14,
      "outputs": []
    },
    {
      "cell_type": "code",
      "source": [
        "##to predict the classes we will need to provide the input the same way we did for training module\n",
        "def clean_sentence(sentence):\n",
        "  sentence_tokens=nltk.word_tokenize(sentence)\n",
        "  sentence_tokens=[lemmatizer.lemmatize(word.lower()) for word in sentence_tokens]\n",
        "  return sentence_tokens\n"
      ],
      "metadata": {
        "id": "njvE2zICPgYd"
      },
      "execution_count": 15,
      "outputs": []
    },
    {
      "cell_type": "code",
      "source": [
        "#for creating the bow \n",
        "def bow(sentence,words,show_details=True):\n",
        "  sentence_words=clean_sentence(sentence)\n",
        "\n",
        "  bow=[0]*len(words)\n",
        "\n",
        "  for sent in sentence_words:\n",
        "    for i,w in enumerate(words):\n",
        "      if w==sent:\n",
        "        bow[i]=1\n",
        "        if show_details:\n",
        "          print(\"Found in bow: %s\" %w)\n",
        "  return(np.array(bow))\n"
      ],
      "metadata": {
        "id": "Awmcs65xQrEV"
      },
      "execution_count": 16,
      "outputs": []
    },
    {
      "cell_type": "code",
      "source": [
        "#filter out prediction below a threshold\n",
        "def predict_class(sentence,model):\n",
        "  pred=bow(sentence,words,show_details=False)\n",
        "  result=model.predict(np.array([pred]))[0]\n",
        "  ERROR_THRESHOLD=0.25\n",
        "  results=[[i,r] for i,r in enumerate(result) if r>ERROR_THRESHOLD]  \n",
        "\n",
        "  results.sort(key=lambda x:x[1],reverse=True)\n",
        "  return_list=[]\n",
        "\n",
        "  for r in results:\n",
        "    return_list.append({'intent':classes[r[0]],\"probability\":str(r[1])})\n",
        "  return return_list      "
      ],
      "metadata": {
        "id": "4MC34I_0TbN8"
      },
      "execution_count": 17,
      "outputs": []
    },
    {
      "cell_type": "code",
      "source": [
        "intents_json=intents\n",
        "def getResponse(ints,intents):\n",
        "  tag=ints[0]['intent']\n",
        "  list_of_intents=intents['intents']\n",
        "  for i in list_of_intents:\n",
        "    if (i['tag']==tag):\n",
        "      result=random.choice(i['responses'])\n",
        "      break\n",
        "  return result"
      ],
      "metadata": {
        "id": "Yf47-y0tUXSm"
      },
      "execution_count": 18,
      "outputs": []
    },
    {
      "cell_type": "code",
      "source": [
        "def chatbot_response(text):\n",
        "  ints=predict_class(text,model)\n",
        "  res=getResponse(ints,intents)\n",
        "  return res"
      ],
      "metadata": {
        "id": "sO6eR_uLVuB5"
      },
      "execution_count": 19,
      "outputs": []
    },
    {
      "cell_type": "code",
      "source": [
        "while True:\n",
        "  message=input(\"\")\n",
        "  if message=='quit':\n",
        "    break\n",
        "  else:\n",
        "     print(chatbot_response(message))"
      ],
      "metadata": {
        "colab": {
          "base_uri": "https://localhost:8080/"
        },
        "id": "ShIatSz2V_C_",
        "outputId": "c85080e4-c680-4675-a23f-7c907f46fad3"
      },
      "execution_count": 20,
      "outputs": [
        {
          "name": "stdout",
          "output_type": "stream",
          "text": [
            "Hi\n",
            "1/1 [==============================] - 0s 80ms/step\n",
            "Good to see you again\n",
            "quit\n"
          ]
        }
      ]
    }
  ]
}