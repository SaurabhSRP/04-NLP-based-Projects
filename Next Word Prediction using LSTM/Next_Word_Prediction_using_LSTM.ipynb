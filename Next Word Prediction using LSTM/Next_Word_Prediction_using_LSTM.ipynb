{
  "nbformat": 4,
  "nbformat_minor": 0,
  "metadata": {
    "colab": {
      "provenance": [],
      "authorship_tag": "ABX9TyOBlyEIsLP+adQgDwjHLuq4",
      "include_colab_link": true
    },
    "kernelspec": {
      "name": "python3",
      "display_name": "Python 3"
    },
    "language_info": {
      "name": "python"
    },
    "accelerator": "GPU",
    "gpuClass": "standard"
  },
  "cells": [
    {
      "cell_type": "markdown",
      "metadata": {
        "id": "view-in-github",
        "colab_type": "text"
      },
      "source": [
        "<a href=\"https://colab.research.google.com/github/SaurabhSRP/04-NLP-based-Projects/blob/main/Next%20Word%20Prediction%20using%20LSTM/Next_Word_Prediction_using_LSTM.ipynb\" target=\"_parent\"><img src=\"https://colab.research.google.com/assets/colab-badge.svg\" alt=\"Open In Colab\"/></a>"
      ]
    },
    {
      "cell_type": "code",
      "source": [
        "import tensorflow as tf\n",
        "from tensorflow.keras.preprocessing.text import Tokenizer\n",
        "from tensorflow.keras.layers import Embedding, LSTM, Dense\n",
        "from tensorflow.keras.models import Sequential\n",
        "from tensorflow.keras.utils import to_categorical\n",
        "from tensorflow.keras.optimizers import Adam\n",
        "import pickle\n",
        "import numpy as np\n",
        "import re"
      ],
      "metadata": {
        "id": "IY2VEC_8eOlc"
      },
      "execution_count": 1,
      "outputs": []
    },
    {
      "cell_type": "code",
      "execution_count": 2,
      "metadata": {
        "id": "Rt7JaymFVEZt"
      },
      "outputs": [],
      "source": [
        "file = open(\"/content/The_Whale.txt\", \"r\", encoding = \"utf8\")\n",
        "\n",
        "# store file in list\n",
        "lines = []\n",
        "for i in file:\n",
        "    lines.append(i)\n",
        "\n",
        "# Convert list to string\n",
        "data = \"\"\n",
        "for i in lines:\n",
        "  data = ' '. join(lines) ##Forms a single text file instead of list of lines or sentences"
      ]
    },
    {
      "cell_type": "markdown",
      "source": [
        "#**Data Preprocessing and cleaning**"
      ],
      "metadata": {
        "id": "GjQ1niWZrkby"
      }
    },
    {
      "cell_type": "code",
      "source": [
        "data = data.replace('\\n', '').replace('\\r', '').replace('\\ufeff', '')\n",
        "data=re.sub(\"[^a-zA-Z]\",' ',data)\n",
        "data=data.lower()\n",
        "data=data.split()\n",
        "\n",
        "data=' '.join(data)\n",
        "corpus=data[10000:15000] #taking the corpus of 5000 words because google colab cant handle this big data"
      ],
      "metadata": {
        "id": "kS5fx52Fg3Eh"
      },
      "execution_count": 3,
      "outputs": []
    },
    {
      "cell_type": "code",
      "source": [
        "len(corpus)"
      ],
      "metadata": {
        "colab": {
          "base_uri": "https://localhost:8080/"
        },
        "id": "cssPJL3GbMO2",
        "outputId": "8f105e3c-6ff6-422a-fb7f-3c54bb227bdd"
      },
      "execution_count": 5,
      "outputs": [
        {
          "output_type": "execute_result",
          "data": {
            "text/plain": [
              "5000"
            ]
          },
          "metadata": {},
          "execution_count": 5
        }
      ]
    },
    {
      "cell_type": "markdown",
      "source": [
        "#**Feature Engineering**\n",
        "* Tokenization\n",
        "* Converting each word with a unique number"
      ],
      "metadata": {
        "id": "xkM2LVamrsm-"
      }
    },
    {
      "cell_type": "code",
      "source": [
        "tokenizer = Tokenizer() ##imported from tensorflow\n",
        "tokenizer.fit_on_texts([corpus])\n",
        "\n",
        "# saving the tokenizer for predict function\n",
        "pickle.dump(tokenizer, open('token.pkl', 'wb'))\n",
        "\n",
        "sequence_data = tokenizer.texts_to_sequences([corpus])[0] #converting each word/token to a sequence number\n",
        "sequence_data[:15]"
      ],
      "metadata": {
        "colab": {
          "base_uri": "https://localhost:8080/"
        },
        "id": "WeeBSsAhZ8H4",
        "outputId": "925d7a0a-b7d4-4a08-d54c-e06919b5c79c"
      },
      "execution_count": 6,
      "outputs": [
        {
          "output_type": "execute_result",
          "data": {
            "text/plain": [
              "[24, 4, 8, 117, 16, 5, 118, 58, 119, 2, 120, 7, 59, 121, 122]"
            ]
          },
          "metadata": {},
          "execution_count": 6
        }
      ]
    },
    {
      "cell_type": "code",
      "source": [
        "len(sequence_data)"
      ],
      "metadata": {
        "colab": {
          "base_uri": "https://localhost:8080/"
        },
        "id": "Bf21R2wxeWNK",
        "outputId": "2a50305f-92bb-4984-9b2a-c8c2dd7cbab0"
      },
      "execution_count": 7,
      "outputs": [
        {
          "output_type": "execute_result",
          "data": {
            "text/plain": [
              "964"
            ]
          },
          "metadata": {},
          "execution_count": 7
        }
      ]
    },
    {
      "cell_type": "code",
      "source": [
        "vocab_size = len(tokenizer.word_index) + 1\n",
        "print(vocab_size)"
      ],
      "metadata": {
        "colab": {
          "base_uri": "https://localhost:8080/"
        },
        "id": "12TpO7n2enxG",
        "outputId": "6c7c0df8-9b59-43bc-876b-a684d59f943b"
      },
      "execution_count": 8,
      "outputs": [
        {
          "output_type": "stream",
          "name": "stdout",
          "text": [
            "466\n"
          ]
        }
      ]
    },
    {
      "cell_type": "markdown",
      "source": [
        "#**Data Preparation for LSTM**"
      ],
      "metadata": {
        "id": "McqEYvU9r7mM"
      }
    },
    {
      "cell_type": "code",
      "source": [
        "sequences = [] #Here we create a dataset such that previous 4 words will become X and 5th word will be the prediction\n",
        "\n",
        "for i in range(4, len(sequence_data)):\n",
        "    words = sequence_data[i-4:i+1]\n",
        "    sequences.append(words)\n",
        "    \n",
        "print(\"The Length of sequences are: \", len(sequences))\n",
        "sequences = np.array(sequences)\n",
        "sequences[:10]"
      ],
      "metadata": {
        "colab": {
          "base_uri": "https://localhost:8080/"
        },
        "id": "G5f0RKFPeqQE",
        "outputId": "0fc22d24-d51f-4518-9b95-9a7667a7f880"
      },
      "execution_count": 9,
      "outputs": [
        {
          "output_type": "stream",
          "name": "stdout",
          "text": [
            "The Length of sequences are:  960\n"
          ]
        },
        {
          "output_type": "execute_result",
          "data": {
            "text/plain": [
              "array([[ 24,   4,   8, 117,  16],\n",
              "       [  4,   8, 117,  16,   5],\n",
              "       [  8, 117,  16,   5, 118],\n",
              "       [117,  16,   5, 118,  58],\n",
              "       [ 16,   5, 118,  58, 119],\n",
              "       [  5, 118,  58, 119,   2],\n",
              "       [118,  58, 119,   2, 120],\n",
              "       [ 58, 119,   2, 120,   7],\n",
              "       [119,   2, 120,   7,  59],\n",
              "       [  2, 120,   7,  59, 121]])"
            ]
          },
          "metadata": {},
          "execution_count": 9
        }
      ]
    },
    {
      "cell_type": "code",
      "source": [
        "X = []\n",
        "y = []\n",
        "\n",
        "for i in sequences:\n",
        "    X.append(i[0:4])\n",
        "    y.append(i[4])\n",
        "    \n",
        "X = np.array(X)\n",
        "y = np.array(y)"
      ],
      "metadata": {
        "id": "J1sHzR-ketLG"
      },
      "execution_count": 10,
      "outputs": []
    },
    {
      "cell_type": "code",
      "source": [
        "print(\"Data: \", X[:10])\n",
        "print(\"Response: \", y[:10])"
      ],
      "metadata": {
        "id": "BOeRYEjNewAR",
        "colab": {
          "base_uri": "https://localhost:8080/"
        },
        "outputId": "895c6538-5e0f-4935-e1f4-f79d36d6d650"
      },
      "execution_count": 11,
      "outputs": [
        {
          "output_type": "stream",
          "name": "stdout",
          "text": [
            "Data:  [[ 24   4   8 117]\n",
            " [  4   8 117  16]\n",
            " [  8 117  16   5]\n",
            " [117  16   5 118]\n",
            " [ 16   5 118  58]\n",
            " [  5 118  58 119]\n",
            " [118  58 119   2]\n",
            " [ 58 119   2 120]\n",
            " [119   2 120   7]\n",
            " [  2 120   7  59]]\n",
            "Response:  [ 16   5 118  58 119   2 120   7  59 121]\n"
          ]
        }
      ]
    },
    {
      "cell_type": "code",
      "source": [
        "y = to_categorical(y, num_classes=vocab_size)\n",
        "y[:5] \n",
        "##Creating a matrix to match the vocab size ,same as padding"
      ],
      "metadata": {
        "id": "HM5Mtn9qeyLa",
        "colab": {
          "base_uri": "https://localhost:8080/"
        },
        "outputId": "dd4bdeb3-fd10-431c-f512-9e42330f42c1"
      },
      "execution_count": 12,
      "outputs": [
        {
          "output_type": "execute_result",
          "data": {
            "text/plain": [
              "array([[0., 0., 0., ..., 0., 0., 0.],\n",
              "       [0., 0., 0., ..., 0., 0., 0.],\n",
              "       [0., 0., 0., ..., 0., 0., 0.],\n",
              "       [0., 0., 0., ..., 0., 0., 0.],\n",
              "       [0., 0., 0., ..., 0., 0., 0.]], dtype=float32)"
            ]
          },
          "metadata": {},
          "execution_count": 12
        }
      ]
    },
    {
      "cell_type": "markdown",
      "source": [
        "#**Model Creation**"
      ],
      "metadata": {
        "id": "jC1c7NY1sA4E"
      }
    },
    {
      "cell_type": "code",
      "source": [
        "model = Sequential()\n",
        "model.add(Embedding(vocab_size, 10, input_length=4)) #word embedding\n",
        "model.add(LSTM(1000, return_sequences=True))\n",
        "model.add(LSTM(1000))\n",
        "model.add(Dense(1000, activation=\"relu\"))\n",
        "model.add(Dense(vocab_size, activation=\"softmax\"))"
      ],
      "metadata": {
        "id": "Yu_VHuF0lWSV"
      },
      "execution_count": 13,
      "outputs": []
    },
    {
      "cell_type": "code",
      "source": [
        "model.summary()"
      ],
      "metadata": {
        "colab": {
          "base_uri": "https://localhost:8080/"
        },
        "id": "or_wihSUnfct",
        "outputId": "88144425-0e13-479b-e2f7-054942649d5b"
      },
      "execution_count": 14,
      "outputs": [
        {
          "output_type": "stream",
          "name": "stdout",
          "text": [
            "Model: \"sequential\"\n",
            "_________________________________________________________________\n",
            " Layer (type)                Output Shape              Param #   \n",
            "=================================================================\n",
            " embedding (Embedding)       (None, 4, 10)             4660      \n",
            "                                                                 \n",
            " lstm (LSTM)                 (None, 4, 1000)           4044000   \n",
            "                                                                 \n",
            " lstm_1 (LSTM)               (None, 1000)              8004000   \n",
            "                                                                 \n",
            " dense (Dense)               (None, 1000)              1001000   \n",
            "                                                                 \n",
            " dense_1 (Dense)             (None, 466)               466466    \n",
            "                                                                 \n",
            "=================================================================\n",
            "Total params: 13,520,126\n",
            "Trainable params: 13,520,126\n",
            "Non-trainable params: 0\n",
            "_________________________________________________________________\n"
          ]
        }
      ]
    },
    {
      "cell_type": "markdown",
      "source": [
        "#**Model Visualisation**"
      ],
      "metadata": {
        "id": "rRPgn8lnn2od"
      }
    },
    {
      "cell_type": "code",
      "source": [
        "from tensorflow import keras\n",
        "from keras.utils.vis_utils import plot_model\n",
        "\n",
        "keras.utils.plot_model(model, to_file='plot.png', show_layer_names=True)"
      ],
      "metadata": {
        "colab": {
          "base_uri": "https://localhost:8080/",
          "height": 564
        },
        "id": "OkpZE-WsnfwB",
        "outputId": "5a96e09a-dd19-4bc4-b879-bd33e0d985f7"
      },
      "execution_count": 15,
      "outputs": [
        {
          "output_type": "execute_result",
          "data": {
            "image/png": "[encoded data removed]",
            "text/plain": [
              "<IPython.core.display.Image object>"
            ]
          },
          "metadata": {},
          "execution_count": 15
        }
      ]
    },
    {
      "cell_type": "markdown",
      "source": [
        "#**Model Training**"
      ],
      "metadata": {
        "id": "wIXnB3LYsE6Q"
      }
    },
    {
      "cell_type": "code",
      "source": [
        "from tensorflow.keras.callbacks import ModelCheckpoint #this will help to save model for future use\n",
        "\n",
        "checkpoint = ModelCheckpoint(\"model_weigths.h5\", monitor='loss', verbose=1, save_best_only=True)\n",
        "model.compile(loss=\"categorical_crossentropy\", optimizer=Adam(learning_rate=0.001)) \n",
        "model.fit(X, y, epochs=100, batch_size=64, callbacks=[checkpoint])"
      ],
      "metadata": {
        "colab": {
          "base_uri": "https://localhost:8080/"
        },
        "id": "9RzqzcmTn00X",
        "outputId": "d53c49a3-13a2-42c6-90c2-2f7fafd86e67"
      },
      "execution_count": 16,
      "outputs": [
        {
          "output_type": "stream",
          "name": "stdout",
          "text": [
            "Epoch 1/100\n",
            "13/15 [=========================>....] - ETA: 0s - loss: 6.0225\n",
            "Epoch 1: loss improved from inf to 5.99776, saving model to model_weigths.h5\n",
            "15/15 [==============================] - 4s 46ms/step - loss: 5.9978\n",
            "Epoch 2/100\n",
            "13/15 [=========================>....] - ETA: 0s - loss: 5.6255\n",
            "Epoch 2: loss improved from 5.99776 to 5.65125, saving model to model_weigths.h5\n",
            "15/15 [==============================] - 1s 38ms/step - loss: 5.6512\n",
            "Epoch 3/100\n",
            "13/15 [=========================>....] - ETA: 0s - loss: 5.5289\n",
            "Epoch 3: loss improved from 5.65125 to 5.53966, saving model to model_weigths.h5\n",
            "15/15 [==============================] - 1s 38ms/step - loss: 5.5397\n",
            "Epoch 4/100\n",
            "12/15 [=======================>......] - ETA: 0s - loss: 5.4758\n",
            "Epoch 4: loss improved from 5.53966 to 5.47814, saving model to model_weigths.h5\n",
            "15/15 [==============================] - 1s 39ms/step - loss: 5.4781\n",
            "Epoch 5/100\n",
            "12/15 [=======================>......] - ETA: 0s - loss: 5.3700\n",
            "Epoch 5: loss improved from 5.47814 to 5.40522, saving model to model_weigths.h5\n",
            "15/15 [==============================] - 1s 42ms/step - loss: 5.4052\n",
            "Epoch 6/100\n",
            "12/15 [=======================>......] - ETA: 0s - loss: 5.3002\n",
            "Epoch 6: loss improved from 5.40522 to 5.33374, saving model to model_weigths.h5\n",
            "15/15 [==============================] - 1s 44ms/step - loss: 5.3337\n",
            "Epoch 7/100\n",
            "12/15 [=======================>......] - ETA: 0s - loss: 5.1755\n",
            "Epoch 7: loss improved from 5.33374 to 5.22261, saving model to model_weigths.h5\n",
            "15/15 [==============================] - 1s 44ms/step - loss: 5.2226\n",
            "Epoch 8/100\n",
            "12/15 [=======================>......] - ETA: 0s - loss: 5.1088\n",
            "Epoch 8: loss improved from 5.22261 to 5.13801, saving model to model_weigths.h5\n",
            "15/15 [==============================] - 1s 45ms/step - loss: 5.1380\n",
            "Epoch 9/100\n",
            "14/15 [===========================>..] - ETA: 0s - loss: 5.0671\n",
            "Epoch 9: loss improved from 5.13801 to 5.07700, saving model to model_weigths.h5\n",
            "15/15 [==============================] - 1s 51ms/step - loss: 5.0770\n",
            "Epoch 10/100\n",
            "13/15 [=========================>....] - ETA: 0s - loss: 5.0354\n",
            "Epoch 10: loss improved from 5.07700 to 5.02937, saving model to model_weigths.h5\n",
            "15/15 [==============================] - 1s 52ms/step - loss: 5.0294\n",
            "Epoch 11/100\n",
            "13/15 [=========================>....] - ETA: 0s - loss: 4.9500\n",
            "Epoch 11: loss improved from 5.02937 to 4.96219, saving model to model_weigths.h5\n",
            "15/15 [==============================] - 1s 39ms/step - loss: 4.9622\n",
            "Epoch 12/100\n",
            "13/15 [=========================>....] - ETA: 0s - loss: 4.9061\n",
            "Epoch 12: loss improved from 4.96219 to 4.90881, saving model to model_weigths.h5\n",
            "15/15 [==============================] - 1s 39ms/step - loss: 4.9088\n",
            "Epoch 13/100\n",
            "12/15 [=======================>......] - ETA: 0s - loss: 4.8139\n",
            "Epoch 13: loss improved from 4.90881 to 4.84916, saving model to model_weigths.h5\n",
            "15/15 [==============================] - 1s 41ms/step - loss: 4.8492\n",
            "Epoch 14/100\n",
            "15/15 [==============================] - ETA: 0s - loss: 4.7933\n",
            "Epoch 14: loss improved from 4.84916 to 4.79333, saving model to model_weigths.h5\n",
            "15/15 [==============================] - 1s 44ms/step - loss: 4.7933\n",
            "Epoch 15/100\n",
            "12/15 [=======================>......] - ETA: 0s - loss: 4.6852\n",
            "Epoch 15: loss improved from 4.79333 to 4.72486, saving model to model_weigths.h5\n",
            "15/15 [==============================] - 1s 44ms/step - loss: 4.7249\n",
            "Epoch 16/100\n",
            "15/15 [==============================] - ETA: 0s - loss: 4.6807\n",
            "Epoch 16: loss improved from 4.72486 to 4.68070, saving model to model_weigths.h5\n",
            "15/15 [==============================] - 1s 45ms/step - loss: 4.6807\n",
            "Epoch 17/100\n",
            "13/15 [=========================>....] - ETA: 0s - loss: 4.6311\n",
            "Epoch 17: loss improved from 4.68070 to 4.64071, saving model to model_weigths.h5\n",
            "15/15 [==============================] - 1s 43ms/step - loss: 4.6407\n",
            "Epoch 18/100\n",
            "12/15 [=======================>......] - ETA: 0s - loss: 4.4913\n",
            "Epoch 18: loss improved from 4.64071 to 4.52116, saving model to model_weigths.h5\n",
            "15/15 [==============================] - 1s 66ms/step - loss: 4.5212\n",
            "Epoch 19/100\n",
            "13/15 [=========================>....] - ETA: 0s - loss: 4.4194\n",
            "Epoch 19: loss improved from 4.52116 to 4.42063, saving model to model_weigths.h5\n",
            "15/15 [==============================] - 1s 41ms/step - loss: 4.4206\n",
            "Epoch 20/100\n",
            "13/15 [=========================>....] - ETA: 0s - loss: 4.2856\n",
            "Epoch 20: loss improved from 4.42063 to 4.32237, saving model to model_weigths.h5\n",
            "15/15 [==============================] - 1s 39ms/step - loss: 4.3224\n",
            "Epoch 21/100\n",
            "13/15 [=========================>....] - ETA: 0s - loss: 4.1501\n",
            "Epoch 21: loss improved from 4.32237 to 4.19460, saving model to model_weigths.h5\n",
            "15/15 [==============================] - 1s 40ms/step - loss: 4.1946\n",
            "Epoch 22/100\n",
            "13/15 [=========================>....] - ETA: 0s - loss: 4.0380\n",
            "Epoch 22: loss improved from 4.19460 to 4.05671, saving model to model_weigths.h5\n",
            "15/15 [==============================] - 1s 39ms/step - loss: 4.0567\n",
            "Epoch 23/100\n",
            "12/15 [=======================>......] - ETA: 0s - loss: 3.8850\n",
            "Epoch 23: loss improved from 4.05671 to 3.96659, saving model to model_weigths.h5\n",
            "15/15 [==============================] - 1s 51ms/step - loss: 3.9666\n",
            "Epoch 24/100\n",
            "13/15 [=========================>....] - ETA: 0s - loss: 3.8965\n",
            "Epoch 24: loss improved from 3.96659 to 3.92384, saving model to model_weigths.h5\n",
            "15/15 [==============================] - 1s 39ms/step - loss: 3.9238\n",
            "Epoch 25/100\n",
            "12/15 [=======================>......] - ETA: 0s - loss: 3.7585\n",
            "Epoch 25: loss improved from 3.92384 to 3.82491, saving model to model_weigths.h5\n",
            "15/15 [==============================] - 1s 42ms/step - loss: 3.8249\n",
            "Epoch 26/100\n",
            "13/15 [=========================>....] - ETA: 0s - loss: 3.7053\n",
            "Epoch 26: loss improved from 3.82491 to 3.71984, saving model to model_weigths.h5\n",
            "15/15 [==============================] - 1s 43ms/step - loss: 3.7198\n",
            "Epoch 27/100\n",
            "13/15 [=========================>....] - ETA: 0s - loss: 3.5759\n",
            "Epoch 27: loss improved from 3.71984 to 3.57227, saving model to model_weigths.h5\n",
            "15/15 [==============================] - 1s 89ms/step - loss: 3.5723\n",
            "Epoch 28/100\n",
            "13/15 [=========================>....] - ETA: 0s - loss: 3.4406\n",
            "Epoch 28: loss improved from 3.57227 to 3.47362, saving model to model_weigths.h5\n",
            "15/15 [==============================] - 1s 38ms/step - loss: 3.4736\n",
            "Epoch 29/100\n",
            "13/15 [=========================>....] - ETA: 0s - loss: 3.4547\n",
            "Epoch 29: loss improved from 3.47362 to 3.45037, saving model to model_weigths.h5\n",
            "15/15 [==============================] - 1s 38ms/step - loss: 3.4504\n",
            "Epoch 30/100\n",
            "12/15 [=======================>......] - ETA: 0s - loss: 3.3492\n",
            "Epoch 30: loss improved from 3.45037 to 3.36326, saving model to model_weigths.h5\n",
            "15/15 [==============================] - 1s 40ms/step - loss: 3.3633\n",
            "Epoch 31/100\n",
            "13/15 [=========================>....] - ETA: 0s - loss: 3.2570\n",
            "Epoch 31: loss improved from 3.36326 to 3.29172, saving model to model_weigths.h5\n",
            "15/15 [==============================] - 1s 47ms/step - loss: 3.2917\n",
            "Epoch 32/100\n",
            "13/15 [=========================>....] - ETA: 0s - loss: 3.2188\n",
            "Epoch 32: loss improved from 3.29172 to 3.23807, saving model to model_weigths.h5\n",
            "15/15 [==============================] - 1s 39ms/step - loss: 3.2381\n",
            "Epoch 33/100\n",
            "14/15 [===========================>..] - ETA: 0s - loss: 3.1396\n",
            "Epoch 33: loss improved from 3.23807 to 3.16634, saving model to model_weigths.h5\n",
            "15/15 [==============================] - 1s 44ms/step - loss: 3.1663\n",
            "Epoch 34/100\n",
            "15/15 [==============================] - ETA: 0s - loss: 3.0926\n",
            "Epoch 34: loss improved from 3.16634 to 3.09261, saving model to model_weigths.h5\n",
            "15/15 [==============================] - 1s 49ms/step - loss: 3.0926\n",
            "Epoch 35/100\n",
            "12/15 [=======================>......] - ETA: 0s - loss: 2.8339\n",
            "Epoch 35: loss improved from 3.09261 to 2.93834, saving model to model_weigths.h5\n",
            "15/15 [==============================] - 1s 59ms/step - loss: 2.9383\n",
            "Epoch 36/100\n",
            "13/15 [=========================>....] - ETA: 0s - loss: 2.8225\n",
            "Epoch 36: loss improved from 2.93834 to 2.87014, saving model to model_weigths.h5\n",
            "15/15 [==============================] - 1s 40ms/step - loss: 2.8701\n",
            "Epoch 37/100\n",
            "15/15 [==============================] - ETA: 0s - loss: 2.7644\n",
            "Epoch 37: loss improved from 2.87014 to 2.76438, saving model to model_weigths.h5\n",
            "15/15 [==============================] - 1s 45ms/step - loss: 2.7644\n",
            "Epoch 38/100\n",
            "14/15 [===========================>..] - ETA: 0s - loss: 2.4343\n",
            "Epoch 38: loss improved from 2.76438 to 2.47157, saving model to model_weigths.h5\n",
            "15/15 [==============================] - 1s 42ms/step - loss: 2.4716\n",
            "Epoch 39/100\n",
            "13/15 [=========================>....] - ETA: 0s - loss: 2.3087\n",
            "Epoch 39: loss improved from 2.47157 to 2.37207, saving model to model_weigths.h5\n",
            "15/15 [==============================] - 1s 46ms/step - loss: 2.3721\n",
            "Epoch 40/100\n",
            "13/15 [=========================>....] - ETA: 0s - loss: 2.2199\n",
            "Epoch 40: loss improved from 2.37207 to 2.23589, saving model to model_weigths.h5\n",
            "15/15 [==============================] - 1s 38ms/step - loss: 2.2359\n",
            "Epoch 41/100\n",
            "13/15 [=========================>....] - ETA: 0s - loss: 2.0255\n",
            "Epoch 41: loss improved from 2.23589 to 2.05158, saving model to model_weigths.h5\n",
            "15/15 [==============================] - 1s 46ms/step - loss: 2.0516\n",
            "Epoch 42/100\n",
            "13/15 [=========================>....] - ETA: 0s - loss: 1.8054\n",
            "Epoch 42: loss improved from 2.05158 to 1.83838, saving model to model_weigths.h5\n",
            "15/15 [==============================] - 1s 60ms/step - loss: 1.8384\n",
            "Epoch 43/100\n",
            "13/15 [=========================>....] - ETA: 0s - loss: 1.8022\n",
            "Epoch 43: loss did not improve from 1.83838\n",
            "15/15 [==============================] - 0s 14ms/step - loss: 1.8554\n",
            "Epoch 44/100\n",
            "13/15 [=========================>....] - ETA: 0s - loss: 1.6887\n",
            "Epoch 44: loss improved from 1.83838 to 1.77247, saving model to model_weigths.h5\n",
            "15/15 [==============================] - 1s 38ms/step - loss: 1.7725\n",
            "Epoch 45/100\n",
            "13/15 [=========================>....] - ETA: 0s - loss: 1.4878\n",
            "Epoch 45: loss improved from 1.77247 to 1.52030, saving model to model_weigths.h5\n",
            "15/15 [==============================] - 1s 41ms/step - loss: 1.5203\n",
            "Epoch 46/100\n",
            "13/15 [=========================>....] - ETA: 0s - loss: 1.3084\n",
            "Epoch 46: loss improved from 1.52030 to 1.38510, saving model to model_weigths.h5\n",
            "15/15 [==============================] - 1s 45ms/step - loss: 1.3851\n",
            "Epoch 47/100\n",
            "12/15 [=======================>......] - ETA: 0s - loss: 1.2423\n",
            "Epoch 47: loss improved from 1.38510 to 1.32703, saving model to model_weigths.h5\n",
            "15/15 [==============================] - 1s 44ms/step - loss: 1.3270\n",
            "Epoch 48/100\n",
            "14/15 [===========================>..] - ETA: 0s - loss: 1.2921\n",
            "Epoch 48: loss improved from 1.32703 to 1.27956, saving model to model_weigths.h5\n",
            "15/15 [==============================] - 1s 44ms/step - loss: 1.2796\n",
            "Epoch 49/100\n",
            "12/15 [=======================>......] - ETA: 0s - loss: 1.1370\n",
            "Epoch 49: loss improved from 1.27956 to 1.15491, saving model to model_weigths.h5\n",
            "15/15 [==============================] - 1s 44ms/step - loss: 1.1549\n",
            "Epoch 50/100\n",
            "12/15 [=======================>......] - ETA: 0s - loss: 0.9725\n",
            "Epoch 50: loss improved from 1.15491 to 1.03532, saving model to model_weigths.h5\n",
            "15/15 [==============================] - 1s 67ms/step - loss: 1.0353\n",
            "Epoch 51/100\n",
            "13/15 [=========================>....] - ETA: 0s - loss: 0.8575\n",
            "Epoch 51: loss improved from 1.03532 to 0.88687, saving model to model_weigths.h5\n",
            "15/15 [==============================] - 1s 38ms/step - loss: 0.8869\n",
            "Epoch 52/100\n",
            "13/15 [=========================>....] - ETA: 0s - loss: 0.8003\n",
            "Epoch 52: loss improved from 0.88687 to 0.83511, saving model to model_weigths.h5\n",
            "15/15 [==============================] - 1s 44ms/step - loss: 0.8351\n",
            "Epoch 53/100\n",
            "13/15 [=========================>....] - ETA: 0s - loss: 0.7298\n",
            "Epoch 53: loss improved from 0.83511 to 0.77953, saving model to model_weigths.h5\n",
            "15/15 [==============================] - 1s 44ms/step - loss: 0.7795\n",
            "Epoch 54/100\n",
            "13/15 [=========================>....] - ETA: 0s - loss: 0.7321\n",
            "Epoch 54: loss improved from 0.77953 to 0.72469, saving model to model_weigths.h5\n",
            "15/15 [==============================] - 1s 38ms/step - loss: 0.7247\n",
            "Epoch 55/100\n",
            "13/15 [=========================>....] - ETA: 0s - loss: 0.6684\n",
            "Epoch 55: loss improved from 0.72469 to 0.70983, saving model to model_weigths.h5\n",
            "15/15 [==============================] - 1s 49ms/step - loss: 0.7098\n",
            "Epoch 56/100\n",
            "13/15 [=========================>....] - ETA: 0s - loss: 0.6644\n",
            "Epoch 56: loss improved from 0.70983 to 0.66375, saving model to model_weigths.h5\n",
            "15/15 [==============================] - 1s 41ms/step - loss: 0.6638\n",
            "Epoch 57/100\n",
            "13/15 [=========================>....] - ETA: 0s - loss: 0.6604\n",
            "Epoch 57: loss did not improve from 0.66375\n",
            "15/15 [==============================] - 0s 15ms/step - loss: 0.6656\n",
            "Epoch 58/100\n",
            "13/15 [=========================>....] - ETA: 0s - loss: 0.5803\n",
            "Epoch 58: loss improved from 0.66375 to 0.57846, saving model to model_weigths.h5\n",
            "15/15 [==============================] - 1s 53ms/step - loss: 0.5785\n",
            "Epoch 59/100\n",
            "13/15 [=========================>....] - ETA: 0s - loss: 0.4710\n",
            "Epoch 59: loss improved from 0.57846 to 0.48579, saving model to model_weigths.h5\n",
            "15/15 [==============================] - 1s 40ms/step - loss: 0.4858\n",
            "Epoch 60/100\n",
            "13/15 [=========================>....] - ETA: 0s - loss: 0.3649\n",
            "Epoch 60: loss improved from 0.48579 to 0.37754, saving model to model_weigths.h5\n",
            "15/15 [==============================] - 1s 39ms/step - loss: 0.3775\n",
            "Epoch 61/100\n",
            "13/15 [=========================>....] - ETA: 0s - loss: 0.3028\n",
            "Epoch 61: loss improved from 0.37754 to 0.32922, saving model to model_weigths.h5\n",
            "15/15 [==============================] - 1s 38ms/step - loss: 0.3292\n",
            "Epoch 62/100\n",
            "12/15 [=======================>......] - ETA: 0s - loss: 0.3439\n",
            "Epoch 62: loss did not improve from 0.32922\n",
            "15/15 [==============================] - 0s 16ms/step - loss: 0.3545\n",
            "Epoch 63/100\n",
            "13/15 [=========================>....] - ETA: 0s - loss: 0.3482\n",
            "Epoch 63: loss did not improve from 0.32922\n",
            "15/15 [==============================] - 0s 13ms/step - loss: 0.3598\n",
            "Epoch 64/100\n",
            "13/15 [=========================>....] - ETA: 0s - loss: 0.3710\n",
            "Epoch 64: loss did not improve from 0.32922\n",
            "15/15 [==============================] - 0s 13ms/step - loss: 0.3810\n",
            "Epoch 65/100\n",
            "13/15 [=========================>....] - ETA: 0s - loss: 0.2668\n",
            "Epoch 65: loss improved from 0.32922 to 0.28300, saving model to model_weigths.h5\n",
            "15/15 [==============================] - 1s 39ms/step - loss: 0.2830\n",
            "Epoch 66/100\n",
            "12/15 [=======================>......] - ETA: 0s - loss: 0.2668\n",
            "Epoch 66: loss improved from 0.28300 to 0.27516, saving model to model_weigths.h5\n",
            "15/15 [==============================] - 1s 40ms/step - loss: 0.2752\n",
            "Epoch 67/100\n",
            "12/15 [=======================>......] - ETA: 0s - loss: 0.2149\n",
            "Epoch 67: loss improved from 0.27516 to 0.22842, saving model to model_weigths.h5\n",
            "15/15 [==============================] - 1s 42ms/step - loss: 0.2284\n",
            "Epoch 68/100\n",
            "13/15 [=========================>....] - ETA: 0s - loss: 0.1725\n",
            "Epoch 68: loss improved from 0.22842 to 0.17776, saving model to model_weigths.h5\n",
            "15/15 [==============================] - 1s 59ms/step - loss: 0.1778\n",
            "Epoch 69/100\n",
            "12/15 [=======================>......] - ETA: 0s - loss: 0.1752\n",
            "Epoch 69: loss did not improve from 0.17776\n",
            "15/15 [==============================] - 0s 15ms/step - loss: 0.1839\n",
            "Epoch 70/100\n",
            "13/15 [=========================>....] - ETA: 0s - loss: 0.1884\n",
            "Epoch 70: loss did not improve from 0.17776\n",
            "15/15 [==============================] - 0s 14ms/step - loss: 0.1962\n",
            "Epoch 71/100\n",
            "13/15 [=========================>....] - ETA: 0s - loss: 0.1892\n",
            "Epoch 71: loss did not improve from 0.17776\n",
            "15/15 [==============================] - 0s 14ms/step - loss: 0.1893\n",
            "Epoch 72/100\n",
            "13/15 [=========================>....] - ETA: 0s - loss: 0.1792\n",
            "Epoch 72: loss did not improve from 0.17776\n",
            "15/15 [==============================] - 0s 13ms/step - loss: 0.1867\n",
            "Epoch 73/100\n",
            "13/15 [=========================>....] - ETA: 0s - loss: 0.2369\n",
            "Epoch 73: loss did not improve from 0.17776\n",
            "15/15 [==============================] - 0s 13ms/step - loss: 0.2564\n",
            "Epoch 74/100\n",
            "13/15 [=========================>....] - ETA: 0s - loss: 0.3050\n",
            "Epoch 74: loss did not improve from 0.17776\n",
            "15/15 [==============================] - 0s 14ms/step - loss: 0.3030\n",
            "Epoch 75/100\n",
            "13/15 [=========================>....] - ETA: 0s - loss: 0.4249\n",
            "Epoch 75: loss did not improve from 0.17776\n",
            "15/15 [==============================] - 0s 13ms/step - loss: 0.4622\n",
            "Epoch 76/100\n",
            "12/15 [=======================>......] - ETA: 0s - loss: 0.3949\n",
            "Epoch 76: loss did not improve from 0.17776\n",
            "15/15 [==============================] - 0s 14ms/step - loss: 0.4456\n",
            "Epoch 77/100\n",
            "13/15 [=========================>....] - ETA: 0s - loss: 0.3048\n",
            "Epoch 77: loss did not improve from 0.17776\n",
            "15/15 [==============================] - 0s 13ms/step - loss: 0.3278\n",
            "Epoch 78/100\n",
            "13/15 [=========================>....] - ETA: 0s - loss: 0.2839\n",
            "Epoch 78: loss did not improve from 0.17776\n",
            "15/15 [==============================] - 0s 13ms/step - loss: 0.3088\n",
            "Epoch 79/100\n",
            "13/15 [=========================>....] - ETA: 0s - loss: 0.3726\n",
            "Epoch 79: loss did not improve from 0.17776\n",
            "15/15 [==============================] - 0s 14ms/step - loss: 0.3774\n",
            "Epoch 80/100\n",
            "13/15 [=========================>....] - ETA: 0s - loss: 0.2955\n",
            "Epoch 80: loss did not improve from 0.17776\n",
            "15/15 [==============================] - 0s 13ms/step - loss: 0.3009\n",
            "Epoch 81/100\n",
            "13/15 [=========================>....] - ETA: 0s - loss: 0.1888\n",
            "Epoch 81: loss did not improve from 0.17776\n",
            "15/15 [==============================] - 0s 14ms/step - loss: 0.1928\n",
            "Epoch 82/100\n",
            "13/15 [=========================>....] - ETA: 0s - loss: 0.1117\n",
            "Epoch 82: loss improved from 0.17776 to 0.12729, saving model to model_weigths.h5\n",
            "15/15 [==============================] - 1s 40ms/step - loss: 0.1273\n",
            "Epoch 83/100\n",
            "13/15 [=========================>....] - ETA: 0s - loss: 0.1150\n",
            "Epoch 83: loss improved from 0.12729 to 0.11066, saving model to model_weigths.h5\n",
            "15/15 [==============================] - 1s 39ms/step - loss: 0.1107\n",
            "Epoch 84/100\n",
            "13/15 [=========================>....] - ETA: 0s - loss: 0.1118\n",
            "Epoch 84: loss did not improve from 0.11066\n",
            "15/15 [==============================] - 0s 14ms/step - loss: 0.1124\n",
            "Epoch 85/100\n",
            "13/15 [=========================>....] - ETA: 0s - loss: 0.0883\n",
            "Epoch 85: loss improved from 0.11066 to 0.09290, saving model to model_weigths.h5\n",
            "15/15 [==============================] - 1s 57ms/step - loss: 0.0929\n",
            "Epoch 86/100\n",
            "13/15 [=========================>....] - ETA: 0s - loss: 0.0667\n",
            "Epoch 86: loss improved from 0.09290 to 0.06163, saving model to model_weigths.h5\n",
            "15/15 [==============================] - 1s 40ms/step - loss: 0.0616\n",
            "Epoch 87/100\n",
            "13/15 [=========================>....] - ETA: 0s - loss: 0.0341\n",
            "Epoch 87: loss improved from 0.06163 to 0.03574, saving model to model_weigths.h5\n",
            "15/15 [==============================] - 1s 43ms/step - loss: 0.0357\n",
            "Epoch 88/100\n",
            "12/15 [=======================>......] - ETA: 0s - loss: 0.0204\n",
            "Epoch 88: loss improved from 0.03574 to 0.02289, saving model to model_weigths.h5\n",
            "15/15 [==============================] - 1s 45ms/step - loss: 0.0229\n",
            "Epoch 89/100\n",
            "15/15 [==============================] - ETA: 0s - loss: 0.0149\n",
            "Epoch 89: loss improved from 0.02289 to 0.01495, saving model to model_weigths.h5\n",
            "15/15 [==============================] - 1s 50ms/step - loss: 0.0149\n",
            "Epoch 90/100\n",
            "13/15 [=========================>....] - ETA: 0s - loss: 0.0126\n",
            "Epoch 90: loss improved from 0.01495 to 0.01172, saving model to model_weigths.h5\n",
            "15/15 [==============================] - 1s 54ms/step - loss: 0.0117\n",
            "Epoch 91/100\n",
            "13/15 [=========================>....] - ETA: 0s - loss: 0.0083\n",
            "Epoch 91: loss improved from 0.01172 to 0.00879, saving model to model_weigths.h5\n",
            "15/15 [==============================] - 1s 47ms/step - loss: 0.0088\n",
            "Epoch 92/100\n",
            "13/15 [=========================>....] - ETA: 0s - loss: 0.0068\n",
            "Epoch 92: loss improved from 0.00879 to 0.00723, saving model to model_weigths.h5\n",
            "15/15 [==============================] - 1s 45ms/step - loss: 0.0072\n",
            "Epoch 93/100\n",
            "13/15 [=========================>....] - ETA: 0s - loss: 0.0063\n",
            "Epoch 93: loss improved from 0.00723 to 0.00614, saving model to model_weigths.h5\n",
            "15/15 [==============================] - 1s 43ms/step - loss: 0.0061\n",
            "Epoch 94/100\n",
            "13/15 [=========================>....] - ETA: 0s - loss: 0.0057\n",
            "Epoch 94: loss improved from 0.00614 to 0.00552, saving model to model_weigths.h5\n",
            "15/15 [==============================] - 1s 39ms/step - loss: 0.0055\n",
            "Epoch 95/100\n",
            "12/15 [=======================>......] - ETA: 0s - loss: 0.0054\n",
            "Epoch 95: loss improved from 0.00552 to 0.00522, saving model to model_weigths.h5\n",
            "15/15 [==============================] - 1s 43ms/step - loss: 0.0052\n",
            "Epoch 96/100\n",
            "12/15 [=======================>......] - ETA: 0s - loss: 0.0049\n",
            "Epoch 96: loss improved from 0.00522 to 0.00498, saving model to model_weigths.h5\n",
            "15/15 [==============================] - 1s 43ms/step - loss: 0.0050\n",
            "Epoch 97/100\n",
            "12/15 [=======================>......] - ETA: 0s - loss: 0.0049\n",
            "Epoch 97: loss improved from 0.00498 to 0.00463, saving model to model_weigths.h5\n",
            "15/15 [==============================] - 1s 45ms/step - loss: 0.0046\n",
            "Epoch 98/100\n",
            "14/15 [===========================>..] - ETA: 0s - loss: 0.0043\n",
            "Epoch 98: loss improved from 0.00463 to 0.00434, saving model to model_weigths.h5\n",
            "15/15 [==============================] - 1s 98ms/step - loss: 0.0043\n",
            "Epoch 99/100\n",
            "13/15 [=========================>....] - ETA: 0s - loss: 0.0040\n",
            "Epoch 99: loss improved from 0.00434 to 0.00431, saving model to model_weigths.h5\n",
            "15/15 [==============================] - 1s 40ms/step - loss: 0.0043\n",
            "Epoch 100/100\n",
            "13/15 [=========================>....] - ETA: 0s - loss: 0.0039\n",
            "Epoch 100: loss improved from 0.00431 to 0.00430, saving model to model_weigths.h5\n",
            "15/15 [==============================] - 1s 41ms/step - loss: 0.0043\n"
          ]
        },
        {
          "output_type": "execute_result",
          "data": {
            "text/plain": [
              "<keras.callbacks.History at 0x7f78a01de790>"
            ]
          },
          "metadata": {},
          "execution_count": 16
        }
      ]
    },
    {
      "cell_type": "markdown",
      "source": [
        "#**Model Prediction**"
      ],
      "metadata": {
        "id": "es1R0bUToWQJ"
      }
    },
    {
      "cell_type": "code",
      "source": [
        "from tensorflow.keras.models import load_model\n",
        "import numpy as np\n",
        "import pickle\n",
        "\n",
        "# Load the model and tokenizer\n",
        "model = load_model('model_weigths.h5')\n",
        "tokenizer = pickle.load(open('token.pkl', 'rb'))\n",
        "\n",
        "def Predict_Next_Words(model, tokenizer, text):\n",
        "\n",
        "  sequence = tokenizer.texts_to_sequences([text])\n",
        "  sequence = np.array(sequence)\n",
        "  preds = np.argmax(model.predict(sequence))\n",
        "  predicted_word = \"\"\n",
        "  \n",
        "  for key, value in tokenizer.word_index.items():\n",
        "      if value == preds:\n",
        "          predicted_word = key\n",
        "          break\n",
        "  \n",
        "  print(predicted_word)\n",
        "  return predicted_word"
      ],
      "metadata": {
        "id": "N9DWXshioVzh"
      },
      "execution_count": 17,
      "outputs": []
    },
    {
      "cell_type": "code",
      "source": [
        "while(True):\n",
        "  text = input(\"Enter your line: \")\n",
        "  \n",
        "  if text == \"0\":\n",
        "      print(\"Execution completed.....\")\n",
        "      break\n",
        "  \n",
        "  else:\n",
        "      try:\n",
        "          text = text.split(\" \")\n",
        "          text = text[-4:]\n",
        "          print(text)\n",
        "        \n",
        "          Predict_Next_Words(model, tokenizer, text)\n",
        "          \n",
        "      except Exception as e:\n",
        "        print(\"Error occurred: \",e)\n",
        "        continue"
      ],
      "metadata": {
        "colab": {
          "base_uri": "https://localhost:8080/"
        },
        "id": "xRPxyvqUooX0",
        "outputId": "d8502de5-efb6-42b6-b2c9-ee2a6b380b62"
      },
      "execution_count": 18,
      "outputs": [
        {
          "output_type": "stream",
          "name": "stdout",
          "text": [
            "Enter your line: the stern of the\n",
            "['the', 'stern', 'of', 'the']\n",
            "1/1 [==============================] - 1s 604ms/step\n",
            "ship\n",
            "Enter your line: fuzzing up the water\n",
            "['fuzzing', 'up', 'the', 'water']\n",
            "1/1 [==============================] - 0s 15ms/step\n",
            "through\n",
            "Enter your line: white all over a voyage to\n",
            "['over', 'a', 'voyage', 'to']\n",
            "1/1 [==============================] - 0s 16ms/step\n",
            "greenland\n",
            "Enter your line: whales goldsmith to johnson in the\n",
            "['to', 'johnson', 'in', 'the']\n",
            "1/1 [==============================] - 0s 16ms/step\n",
            "afternoon\n",
            "Enter your line: 0\n",
            "Execution completed.....\n"
          ]
        }
      ]
    }
  ]
}