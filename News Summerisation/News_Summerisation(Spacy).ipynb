{
  "nbformat": 4,
  "nbformat_minor": 0,
  "metadata": {
    "colab": {
      "provenance": [],
      "authorship_tag": "ABX9TyPx8zVr2UHmKYVxwOmysCks",
      "include_colab_link": true
    },
    "kernelspec": {
      "name": "python3",
      "display_name": "Python 3"
    },
    "language_info": {
      "name": "python"
    }
  },
  "cells": [
    {
      "cell_type": "markdown",
      "metadata": {
        "id": "view-in-github",
        "colab_type": "text"
      },
      "source": [
        "<a href=\"https://colab.research.google.com/github/SaurabhSRP/04-NLP-based-Projects/blob/main/News%20Summerisation/News_Summerisation(Spacy).ipynb\" target=\"_parent\"><img src=\"https://colab.research.google.com/assets/colab-badge.svg\" alt=\"Open In Colab\"/></a>"
      ]
    },
    {
      "cell_type": "code",
      "execution_count": 50,
      "metadata": {
        "id": "KdOyvZL1Mej2"
      },
      "outputs": [],
      "source": [
        "import pandas as pd\n",
        "import numpy as np"
      ]
    },
    {
      "cell_type": "code",
      "source": [
        "df=pd.read_csv(\"https://raw.githubusercontent.com/SaurabhSRP/04-NLP-based-Projects/main/News%20Summerisation/news_summary.csv\",encoding='iso-8859-1')\n",
        "df.head()"
      ],
      "metadata": {
        "colab": {
          "base_uri": "https://localhost:8080/",
          "height": 354
        },
        "id": "s_ZoiyUFMjw7",
        "outputId": "c5e2d1f4-f6c4-40ac-a95f-39999917d77d"
      },
      "execution_count": 51,
      "outputs": [
        {
          "output_type": "execute_result",
          "data": {
            "text/plain": [
              "               author                  date  \\\n",
              "0        Chhavi Tyagi  03 Aug 2017,Thursday   \n",
              "1         Daisy Mowke  03 Aug 2017,Thursday   \n",
              "2      Arshiya Chopra  03 Aug 2017,Thursday   \n",
              "3       Sumedha Sehra  03 Aug 2017,Thursday   \n",
              "4  Aarushi Maheshwari  03 Aug 2017,Thursday   \n",
              "\n",
              "                                           headlines  \\\n",
              "0  Daman & Diu revokes mandatory Rakshabandhan in...   \n",
              "1  Malaika slams user who trolled her for 'divorc...   \n",
              "2  'Virgin' now corrected to 'Unmarried' in IGIMS...   \n",
              "3  Aaj aapne pakad liya: LeT man Dujana before be...   \n",
              "4  Hotel staff to get training to spot signs of s...   \n",
              "\n",
              "                                           read_more  \\\n",
              "0  http://www.hindustantimes.com/india-news/raksh...   \n",
              "1  http://www.hindustantimes.com/bollywood/malaik...   \n",
              "2  http://www.hindustantimes.com/patna/bihar-igim...   \n",
              "3  http://indiatoday.intoday.in/story/abu-dujana-...   \n",
              "4  http://indiatoday.intoday.in/story/sex-traffic...   \n",
              "\n",
              "                                                text  \\\n",
              "0  The Administration of Union Territory Daman an...   \n",
              "1  Malaika Arora slammed an Instagram user who tr...   \n",
              "2  The Indira Gandhi Institute of Medical Science...   \n",
              "3  Lashkar-e-Taiba's Kashmir commander Abu Dujana...   \n",
              "4  Hotels in Maharashtra will train their staff t...   \n",
              "\n",
              "                                               ctext  \n",
              "0  The Daman and Diu administration on Wednesday ...  \n",
              "1  From her special numbers to TV?appearances, Bo...  \n",
              "2  The Indira Gandhi Institute of Medical Science...  \n",
              "3  Lashkar-e-Taiba's Kashmir commander Abu Dujana...  \n",
              "4  Hotels in Mumbai and other Indian cities are t...  "
            ],
            "text/html": [
              "\n",
              "  <div id=\"df-705e6461-9e83-484d-bd5c-7ae460ef1c97\">\n",
              "    <div class=\"colab-df-container\">\n",
              "      <div>\n",
              "<style scoped>\n",
              "    .dataframe tbody tr th:only-of-type {\n",
              "        vertical-align: middle;\n",
              "    }\n",
              "\n",
              "    .dataframe tbody tr th {\n",
              "        vertical-align: top;\n",
              "    }\n",
              "\n",
              "    .dataframe thead th {\n",
              "        text-align: right;\n",
              "    }\n",
              "</style>\n",
              "<table border=\"1\" class=\"dataframe\">\n",
              "  <thead>\n",
              "    <tr style=\"text-align: right;\">\n",
              "      <th></th>\n",
              "      <th>author</th>\n",
              "      <th>date</th>\n",
              "      <th>headlines</th>\n",
              "      <th>read_more</th>\n",
              "      <th>text</th>\n",
              "      <th>ctext</th>\n",
              "    </tr>\n",
              "  </thead>\n",
              "  <tbody>\n",
              "    <tr>\n",
              "      <th>0</th>\n",
              "      <td>Chhavi Tyagi</td>\n",
              "      <td>03 Aug 2017,Thursday</td>\n",
              "      <td>Daman &amp; Diu revokes mandatory Rakshabandhan in...</td>\n",
              "      <td>http://www.hindustantimes.com/india-news/raksh...</td>\n",
              "      <td>The Administration of Union Territory Daman an...</td>\n",
              "      <td>The Daman and Diu administration on Wednesday ...</td>\n",
              "    </tr>\n",
              "    <tr>\n",
              "      <th>1</th>\n",
              "      <td>Daisy Mowke</td>\n",
              "      <td>03 Aug 2017,Thursday</td>\n",
              "      <td>Malaika slams user who trolled her for 'divorc...</td>\n",
              "      <td>http://www.hindustantimes.com/bollywood/malaik...</td>\n",
              "      <td>Malaika Arora slammed an Instagram user who tr...</td>\n",
              "      <td>From her special numbers to TV?appearances, Bo...</td>\n",
              "    </tr>\n",
              "    <tr>\n",
              "      <th>2</th>\n",
              "      <td>Arshiya Chopra</td>\n",
              "      <td>03 Aug 2017,Thursday</td>\n",
              "      <td>'Virgin' now corrected to 'Unmarried' in IGIMS...</td>\n",
              "      <td>http://www.hindustantimes.com/patna/bihar-igim...</td>\n",
              "      <td>The Indira Gandhi Institute of Medical Science...</td>\n",
              "      <td>The Indira Gandhi Institute of Medical Science...</td>\n",
              "    </tr>\n",
              "    <tr>\n",
              "      <th>3</th>\n",
              "      <td>Sumedha Sehra</td>\n",
              "      <td>03 Aug 2017,Thursday</td>\n",
              "      <td>Aaj aapne pakad liya: LeT man Dujana before be...</td>\n",
              "      <td>http://indiatoday.intoday.in/story/abu-dujana-...</td>\n",
              "      <td>Lashkar-e-Taiba's Kashmir commander Abu Dujana...</td>\n",
              "      <td>Lashkar-e-Taiba's Kashmir commander Abu Dujana...</td>\n",
              "    </tr>\n",
              "    <tr>\n",
              "      <th>4</th>\n",
              "      <td>Aarushi Maheshwari</td>\n",
              "      <td>03 Aug 2017,Thursday</td>\n",
              "      <td>Hotel staff to get training to spot signs of s...</td>\n",
              "      <td>http://indiatoday.intoday.in/story/sex-traffic...</td>\n",
              "      <td>Hotels in Maharashtra will train their staff t...</td>\n",
              "      <td>Hotels in Mumbai and other Indian cities are t...</td>\n",
              "    </tr>\n",
              "  </tbody>\n",
              "</table>\n",
              "</div>\n",
              "      <button class=\"colab-df-convert\" onclick=\"convertToInteractive('df-705e6461-9e83-484d-bd5c-7ae460ef1c97')\"\n",
              "              title=\"Convert this dataframe to an interactive table.\"\n",
              "              style=\"display:none;\">\n",
              "        \n",
              "  <svg xmlns=\"http://www.w3.org/2000/svg\" height=\"24px\"viewBox=\"0 0 24 24\"\n",
              "       width=\"24px\">\n",
              "    <path d=\"M0 0h24v24H0V0z\" fill=\"none\"/>\n",
              "    <path d=\"M18.56 5.44l.94 2.06.94-2.06 2.06-.94-2.06-.94-.94-2.06-.94 2.06-2.06.94zm-11 1L8.5 8.5l.94-2.06 2.06-.94-2.06-.94L8.5 2.5l-.94 2.06-2.06.94zm10 10l.94 2.06.94-2.06 2.06-.94-2.06-.94-.94-2.06-.94 2.06-2.06.94z\"/><path d=\"M17.41 7.96l-1.37-1.37c-.4-.4-.92-.59-1.43-.59-.52 0-1.04.2-1.43.59L10.3 9.45l-7.72 7.72c-.78.78-.78 2.05 0 2.83L4 21.41c.39.39.9.59 1.41.59.51 0 1.02-.2 1.41-.59l7.78-7.78 2.81-2.81c.8-.78.8-2.07 0-2.86zM5.41 20L4 18.59l7.72-7.72 1.47 1.35L5.41 20z\"/>\n",
              "  </svg>\n",
              "      </button>\n",
              "      \n",
              "  <style>\n",
              "    .colab-df-container {\n",
              "      display:flex;\n",
              "      flex-wrap:wrap;\n",
              "      gap: 12px;\n",
              "    }\n",
              "\n",
              "    .colab-df-convert {\n",
              "      background-color: #E8F0FE;\n",
              "      border: none;\n",
              "      border-radius: 50%;\n",
              "      cursor: pointer;\n",
              "      display: none;\n",
              "      fill: #1967D2;\n",
              "      height: 32px;\n",
              "      padding: 0 0 0 0;\n",
              "      width: 32px;\n",
              "    }\n",
              "\n",
              "    .colab-df-convert:hover {\n",
              "      background-color: #E2EBFA;\n",
              "      box-shadow: 0px 1px 2px rgba(60, 64, 67, 0.3), 0px 1px 3px 1px rgba(60, 64, 67, 0.15);\n",
              "      fill: #174EA6;\n",
              "    }\n",
              "\n",
              "    [theme=dark] .colab-df-convert {\n",
              "      background-color: #3B4455;\n",
              "      fill: #D2E3FC;\n",
              "    }\n",
              "\n",
              "    [theme=dark] .colab-df-convert:hover {\n",
              "      background-color: #434B5C;\n",
              "      box-shadow: 0px 1px 3px 1px rgba(0, 0, 0, 0.15);\n",
              "      filter: drop-shadow(0px 1px 2px rgba(0, 0, 0, 0.3));\n",
              "      fill: #FFFFFF;\n",
              "    }\n",
              "  </style>\n",
              "\n",
              "      <script>\n",
              "        const buttonEl =\n",
              "          document.querySelector('#df-705e6461-9e83-484d-bd5c-7ae460ef1c97 button.colab-df-convert');\n",
              "        buttonEl.style.display =\n",
              "          google.colab.kernel.accessAllowed ? 'block' : 'none';\n",
              "\n",
              "        async function convertToInteractive(key) {\n",
              "          const element = document.querySelector('#df-705e6461-9e83-484d-bd5c-7ae460ef1c97');\n",
              "          const dataTable =\n",
              "            await google.colab.kernel.invokeFunction('convertToInteractive',\n",
              "                                                     [key], {});\n",
              "          if (!dataTable) return;\n",
              "\n",
              "          const docLinkHtml = 'Like what you see? Visit the ' +\n",
              "            '<a target=\"_blank\" href=https://colab.research.google.com/notebooks/data_table.ipynb>data table notebook</a>'\n",
              "            + ' to learn more about interactive tables.';\n",
              "          element.innerHTML = '';\n",
              "          dataTable['output_type'] = 'display_data';\n",
              "          await google.colab.output.renderOutput(dataTable, element);\n",
              "          const docLink = document.createElement('div');\n",
              "          docLink.innerHTML = docLinkHtml;\n",
              "          element.appendChild(docLink);\n",
              "        }\n",
              "      </script>\n",
              "    </div>\n",
              "  </div>\n",
              "  "
            ]
          },
          "metadata": {},
          "execution_count": 51
        }
      ]
    },
    {
      "cell_type": "code",
      "source": [
        "df.shape"
      ],
      "metadata": {
        "colab": {
          "base_uri": "https://localhost:8080/"
        },
        "id": "8f1kh6jNQq-j",
        "outputId": "2b1b204c-8b50-458c-be15-cd862f600b9c"
      },
      "execution_count": 52,
      "outputs": [
        {
          "output_type": "execute_result",
          "data": {
            "text/plain": [
              "(4514, 6)"
            ]
          },
          "metadata": {},
          "execution_count": 52
        }
      ]
    },
    {
      "cell_type": "markdown",
      "source": [
        "#**Using Spacy**"
      ],
      "metadata": {
        "id": "ixgAp4M8oEHq"
      }
    },
    {
      "cell_type": "markdown",
      "source": [
        "##We will perform news summerization for the 100th record , this was chosen out of random \n",
        "\n",
        "###It is performed by series of steps:\n",
        "* Text Cleaning\n",
        "* Sentence Tokenization\n",
        "* Word Tokenization\n",
        "* Word Frequency table\n",
        "* Summerisation"
      ],
      "metadata": {
        "id": "-SZKhW7VHcIn"
      }
    },
    {
      "cell_type": "code",
      "source": [
        "import spacy\n",
        "from spacy.lang.en.stop_words import STOP_WORDS\n",
        "from string import punctuation\n",
        "nlp = spacy.load('en_core_web_sm')"
      ],
      "metadata": {
        "id": "bbFuXxFWISEO"
      },
      "execution_count": 53,
      "outputs": []
    },
    {
      "cell_type": "code",
      "source": [
        "print(STOP_WORDS)"
      ],
      "metadata": {
        "colab": {
          "base_uri": "https://localhost:8080/"
        },
        "id": "0YBlU8nbixPb",
        "outputId": "67c27500-10fb-464f-b05d-f72e38ff851a"
      },
      "execution_count": 74,
      "outputs": [
        {
          "output_type": "stream",
          "name": "stdout",
          "text": [
            "{'themselves', 'thru', 'whose', '’s', 'somehow', 'here', 'been', 'these', 'elsewhere', '’ve', 'during', 'nor', 'n’t', 'would', 'several', 'what', \"'m\", 'even', 'to', 'any', 'upon', 'has', '‘d', 'another', 'you', 'eleven', 'down', 'keep', 'hundred', 'five', 'now', 'but', 'could', '’m', 'while', 'none', 'latter', 'herein', 'see', 'top', 'too', 'alone', 'itself', 'empty', 'becomes', 'go', 'be', 'across', 'move', 'become', 'hence', 'never', 'others', 'anyone', 'yours', 'former', 'are', 'also', 'almost', 'such', 'being', 'unless', 'third', 'besides', 'through', 'whither', 'except', 'without', 'namely', 'therefore', 'just', 'anywhere', 'n‘t', 'nobody', 'whole', 'because', 'afterwards', 'bottom', 'then', 'seem', 'whereby', 'so', 'for', 'its', 'how', 'herself', \"'ll\", 'ever', 'really', 'back', 'him', 'something', 'already', 'however', 'they', 'not', 'made', 'there', 'due', 'have', '‘re', 'latterly', 'show', '‘m', 'yourselves', 'less', 'thence', 'where', 'call', 'everywhere', 'thus', 'whereafter', 'many', 'whence', 'is', 'further', 'own', 'seems', 'often', 'ca', 'hereupon', 'around', 'onto', 'against', 'beyond', 'from', 'himself', 'someone', 'ten', 'if', 'or', 'other', 'moreover', 'hereby', 'at', 'serious', 'must', 'least', \"'re\", 'hers', 'noone', 'he', 'amount', 'first', 'more', 'over', 'thereafter', 'had', 'everyone', 'fifteen', 'before', 'most', 'after', 'mine', 'did', 'twelve', 'anything', 'three', \"'s\", 'of', 'our', 'per', 'nevertheless', 'mostly', '’re', 'behind', 'beforehand', 'your', 'full', 'this', 'yet', 'them', 'give', 'forty', 'therein', 'beside', 'enough', 'along', 'sixty', 'that', 'formerly', 'within', '’d', 'neither', 'somewhere', 'am', 'done', 'which', \"n't\", 'well', 'the', 'up', 'one', 'using', 'above', 'those', 'front', 'four', 'towards', 'next', 'though', 'should', 'myself', 'in', 'twenty', 'their', 'quite', 'rather', 'an', 'she', 'doing', 'both', '‘ll', 'once', 'part', 'his', 'why', 'used', 'last', 'some', 'about', 'thereby', 'always', 'each', 'whenever', 'get', 'becoming', 'all', 'became', 'since', 'sometimes', 'nine', 'else', 'we', 'toward', 'say', 'it', 'who', 'may', 'few', 'whom', 'until', 'every', 'via', 'although', 'indeed', 'seemed', 'seeming', \"'ve\", 'me', 'a', 'her', 'throughout', '’ll', 'yourself', 'please', 'i', 'hereafter', 'ourselves', 'whereupon', 'cannot', 'again', 'as', 'between', 'off', 'six', 'when', 'put', 'anyhow', 'same', 'than', 'meanwhile', 'wherein', 'out', 'no', 'was', 'were', 'take', 'name', 'whereas', 'regarding', 'make', 'does', 'still', 'side', 'very', 'under', \"'d\", 'sometime', 'together', 'do', 'amongst', 'fifty', 'everything', '‘ve', 'my', '‘s', 'us', 'two', 'only', 'perhaps', 'wherever', 'various', 'thereupon', 'whoever', 'might', 'otherwise', 'much', 'anyway', 'whatever', 'and', 'nothing', 'nowhere', 'eight', 'into', 'on', 're', 'will', 'below', 'by', 'with', 'ours', 'either', 'whether', 'can', 'among'}\n"
          ]
        }
      ]
    },
    {
      "cell_type": "markdown",
      "source": [
        "###WE will use these stop words to remove from my our article by converting STOP_WORDS to list"
      ],
      "metadata": {
        "id": "Al8EFhCEi5JT"
      }
    },
    {
      "cell_type": "code",
      "source": [
        "stopwords = list(STOP_WORDS)"
      ],
      "metadata": {
        "id": "ozOQFqEKjD9j"
      },
      "execution_count": 55,
      "outputs": []
    },
    {
      "cell_type": "code",
      "source": [
        "article=df['ctext'][1000]\n",
        "article"
      ],
      "metadata": {
        "colab": {
          "base_uri": "https://localhost:8080/",
          "height": 139
        },
        "id": "0wEohaH-HWpl",
        "outputId": "0d1dec59-84b4-49ba-d9d8-393099121b32"
      },
      "execution_count": 56,
      "outputs": [
        {
          "output_type": "execute_result",
          "data": {
            "text/plain": [
              "'Is the right to privacy a fundamental right?The question, which forms the basis of petitions that challenge Aadhaar for violating privacy, will be answered by a nine-judge constitution bench.The Supreme Court in Tuesday said the constitution bench would revisit its rulings that said the right to privacy was not a fundamental right and then hear petitions against the 12-digit biometric identity number.?During the course of hearing today it has become essential for us to determine whether right to privacy is a fundamental right under the Constitution,? a five-judge bench headed by Chief Justice of India JS Khehar said.The nine-judge bench is expected to take up and conclude its hearing on Wednesday itself.?The determination of this question would essentially entail whether the decision recorded by an eight-judge bench in 1954 and also by a six-judge bench in 1962 that there is no such fundamental right is the correct expression of constitutional provisions,? the court said.The court decided to refer the matter to a larger bench after the Centre cited the two judgments to argue that the right to privacy was not a fundamental right.?Our founding fathers have encompassed all rights. But consciously this is omitted,? attorney general KK Venugopal said. But justice J Chelameswar said it was illogical to argue that the Constitution didn?t mention the right to privacy while common law identified it.?Textually it is correct today that there is no right to privacy in the Constitution. But even freedom of press is not expressly stated. This court has interpreted it,? the judge said, adding the earlier verdicts should be looked at again.?One can?t overlook the constant view held by smaller benches in their later judgments holding right to privacy is a fundamental right.?The government is pushing for Aadhaar, saying it is necessary to plug leakages in subsidy schemes and to ensure benefits reach those targeted. But critics say the move violates privacy, is vulnerable to data breaches and helps government spy on people.'"
            ],
            "application/vnd.google.colaboratory.intrinsic+json": {
              "type": "string"
            }
          },
          "metadata": {},
          "execution_count": 56
        }
      ]
    },
    {
      "cell_type": "code",
      "source": [
        "doc = nlp(article)\n",
        "tokens = [token.text for token in doc]\n",
        "print(tokens)"
      ],
      "metadata": {
        "colab": {
          "base_uri": "https://localhost:8080/"
        },
        "id": "ZXpeZQ1_j25E",
        "outputId": "8b5c032a-0ef9-4b16-8033-534ae9bf7b79"
      },
      "execution_count": 57,
      "outputs": [
        {
          "output_type": "stream",
          "name": "stdout",
          "text": [
            "['Is', 'the', 'right', 'to', 'privacy', 'a', 'fundamental', 'right?The', 'question', ',', 'which', 'forms', 'the', 'basis', 'of', 'petitions', 'that', 'challenge', 'Aadhaar', 'for', 'violating', 'privacy', ',', 'will', 'be', 'answered', 'by', 'a', 'nine', '-', 'judge', 'constitution', 'bench', '.', 'The', 'Supreme', 'Court', 'in', 'Tuesday', 'said', 'the', 'constitution', 'bench', 'would', 'revisit', 'its', 'rulings', 'that', 'said', 'the', 'right', 'to', 'privacy', 'was', 'not', 'a', 'fundamental', 'right', 'and', 'then', 'hear', 'petitions', 'against', 'the', '12', '-', 'digit', 'biometric', 'identity', 'number.?During', 'the', 'course', 'of', 'hearing', 'today', 'it', 'has', 'become', 'essential', 'for', 'us', 'to', 'determine', 'whether', 'right', 'to', 'privacy', 'is', 'a', 'fundamental', 'right', 'under', 'the', 'Constitution', ',', '?', 'a', 'five', '-', 'judge', 'bench', 'headed', 'by', 'Chief', 'Justice', 'of', 'India', 'JS', 'Khehar', 'said', '.', 'The', 'nine', '-', 'judge', 'bench', 'is', 'expected', 'to', 'take', 'up', 'and', 'conclude', 'its', 'hearing', 'on', 'Wednesday', 'itself.?The', 'determination', 'of', 'this', 'question', 'would', 'essentially', 'entail', 'whether', 'the', 'decision', 'recorded', 'by', 'an', 'eight', '-', 'judge', 'bench', 'in', '1954', 'and', 'also', 'by', 'a', 'six', '-', 'judge', 'bench', 'in', '1962', 'that', 'there', 'is', 'no', 'such', 'fundamental', 'right', 'is', 'the', 'correct', 'expression', 'of', 'constitutional', 'provisions', ',', '?', 'the', 'court', 'said', '.', 'The', 'court', 'decided', 'to', 'refer', 'the', 'matter', 'to', 'a', 'larger', 'bench', 'after', 'the', 'Centre', 'cited', 'the', 'two', 'judgments', 'to', 'argue', 'that', 'the', 'right', 'to', 'privacy', 'was', 'not', 'a', 'fundamental', 'right.?Our', 'founding', 'fathers', 'have', 'encompassed', 'all', 'rights', '.', 'But', 'consciously', 'this', 'is', 'omitted', ',', '?', 'attorney', 'general', 'KK', 'Venugopal', 'said', '.', 'But', 'justice', 'J', 'Chelameswar', 'said', 'it', 'was', 'illogical', 'to', 'argue', 'that', 'the', 'Constitution', 'didn?t', 'mention', 'the', 'right', 'to', 'privacy', 'while', 'common', 'law', 'identified', 'it.?Textually', 'it', 'is', 'correct', 'today', 'that', 'there', 'is', 'no', 'right', 'to', 'privacy', 'in', 'the', 'Constitution', '.', 'But', 'even', 'freedom', 'of', 'press', 'is', 'not', 'expressly', 'stated', '.', 'This', 'court', 'has', 'interpreted', 'it', ',', '?', 'the', 'judge', 'said', ',', 'adding', 'the', 'earlier', 'verdicts', 'should', 'be', 'looked', 'at', 'again.?One', 'can?t', 'overlook', 'the', 'constant', 'view', 'held', 'by', 'smaller', 'benches', 'in', 'their', 'later', 'judgments', 'holding', 'right', 'to', 'privacy', 'is', 'a', 'fundamental', 'right.?The', 'government', 'is', 'pushing', 'for', 'Aadhaar', ',', 'saying', 'it', 'is', 'necessary', 'to', 'plug', 'leakages', 'in', 'subsidy', 'schemes', 'and', 'to', 'ensure', 'benefits', 'reach', 'those', 'targeted', '.', 'But', 'critics', 'say', 'the', 'move', 'violates', 'privacy', ',', 'is', 'vulnerable', 'to', 'data', 'breaches', 'and', 'helps', 'government', 'spy', 'on', 'people', '.']\n"
          ]
        }
      ]
    },
    {
      "cell_type": "code",
      "source": [
        "punctuation "
      ],
      "metadata": {
        "colab": {
          "base_uri": "https://localhost:8080/",
          "height": 35
        },
        "id": "9FX9l9TxkSva",
        "outputId": "b7236f0d-4bb0-4387-fa89-5cd64c280c41"
      },
      "execution_count": 58,
      "outputs": [
        {
          "output_type": "execute_result",
          "data": {
            "text/plain": [
              "'!\"#$%&\\'()*+,-./:;<=>?@[\\\\]^_`{|}~'"
            ],
            "application/vnd.google.colaboratory.intrinsic+json": {
              "type": "string"
            }
          },
          "metadata": {},
          "execution_count": 58
        }
      ]
    },
    {
      "cell_type": "code",
      "source": [
        "word_frequencies = {}\n",
        "for word in doc:\n",
        "  if word.text.lower() not in stopwords:\n",
        "    if word.text.lower() not in punctuation:\n",
        "      if word.text not in word_frequencies.keys():\n",
        "        word_frequencies[word.text] = 1\n",
        "      else:\n",
        "        word_frequencies[word.text] += 1\n",
        "\n",
        "print(word_frequencies)"
      ],
      "metadata": {
        "colab": {
          "base_uri": "https://localhost:8080/"
        },
        "id": "OjFy9kcqkaXP",
        "outputId": "49db090d-1223-4ac4-9504-7164aff7a3cf"
      },
      "execution_count": 59,
      "outputs": [
        {
          "output_type": "stream",
          "name": "stdout",
          "text": [
            "{'right': 10, 'privacy': 9, 'fundamental': 6, 'right?The': 1, 'question': 2, 'forms': 1, 'basis': 1, 'petitions': 2, 'challenge': 1, 'Aadhaar': 2, 'violating': 1, 'answered': 1, 'judge': 6, 'constitution': 2, 'bench': 7, 'Supreme': 1, 'Court': 1, 'Tuesday': 1, 'said': 7, 'revisit': 1, 'rulings': 1, 'hear': 1, '12': 1, 'digit': 1, 'biometric': 1, 'identity': 1, 'number.?During': 1, 'course': 1, 'hearing': 2, 'today': 2, 'essential': 1, 'determine': 1, 'Constitution': 3, 'headed': 1, 'Chief': 1, 'Justice': 1, 'India': 1, 'JS': 1, 'Khehar': 1, 'expected': 1, 'conclude': 1, 'Wednesday': 1, 'itself.?The': 1, 'determination': 1, 'essentially': 1, 'entail': 1, 'decision': 1, 'recorded': 1, '1954': 1, '1962': 1, 'correct': 2, 'expression': 1, 'constitutional': 1, 'provisions': 1, 'court': 3, 'decided': 1, 'refer': 1, 'matter': 1, 'larger': 1, 'Centre': 1, 'cited': 1, 'judgments': 2, 'argue': 2, 'right.?Our': 1, 'founding': 1, 'fathers': 1, 'encompassed': 1, 'rights': 1, 'consciously': 1, 'omitted': 1, 'attorney': 1, 'general': 1, 'KK': 1, 'Venugopal': 1, 'justice': 1, 'J': 1, 'Chelameswar': 1, 'illogical': 1, 'didn?t': 1, 'mention': 1, 'common': 1, 'law': 1, 'identified': 1, 'it.?Textually': 1, 'freedom': 1, 'press': 1, 'expressly': 1, 'stated': 1, 'interpreted': 1, 'adding': 1, 'earlier': 1, 'verdicts': 1, 'looked': 1, 'again.?One': 1, 'can?t': 1, 'overlook': 1, 'constant': 1, 'view': 1, 'held': 1, 'smaller': 1, 'benches': 1, 'later': 1, 'holding': 1, 'right.?The': 1, 'government': 2, 'pushing': 1, 'saying': 1, 'necessary': 1, 'plug': 1, 'leakages': 1, 'subsidy': 1, 'schemes': 1, 'ensure': 1, 'benefits': 1, 'reach': 1, 'targeted': 1, 'critics': 1, 'violates': 1, 'vulnerable': 1, 'data': 1, 'breaches': 1, 'helps': 1, 'spy': 1, 'people': 1}\n"
          ]
        }
      ]
    },
    {
      "cell_type": "code",
      "source": [
        "max_frequency = max(word_frequencies.values())\n",
        "max_frequency"
      ],
      "metadata": {
        "colab": {
          "base_uri": "https://localhost:8080/"
        },
        "id": "aLESaH74k5OE",
        "outputId": "c84deb46-0652-4d4d-bcc4-de387350d5eb"
      },
      "execution_count": 60,
      "outputs": [
        {
          "output_type": "execute_result",
          "data": {
            "text/plain": [
              "10"
            ]
          },
          "metadata": {},
          "execution_count": 60
        }
      ]
    },
    {
      "cell_type": "code",
      "source": [
        "for word in word_frequencies.keys():\n",
        "  word_frequencies[word] = word_frequencies[word]/max_frequency\n",
        "\n",
        "print(word_frequencies)"
      ],
      "metadata": {
        "colab": {
          "base_uri": "https://localhost:8080/"
        },
        "id": "X8q9BGHulDeJ",
        "outputId": "5a893b02-2930-4ebf-8b9a-7feb41480169"
      },
      "execution_count": 61,
      "outputs": [
        {
          "output_type": "stream",
          "name": "stdout",
          "text": [
            "{'right': 1.0, 'privacy': 0.9, 'fundamental': 0.6, 'right?The': 0.1, 'question': 0.2, 'forms': 0.1, 'basis': 0.1, 'petitions': 0.2, 'challenge': 0.1, 'Aadhaar': 0.2, 'violating': 0.1, 'answered': 0.1, 'judge': 0.6, 'constitution': 0.2, 'bench': 0.7, 'Supreme': 0.1, 'Court': 0.1, 'Tuesday': 0.1, 'said': 0.7, 'revisit': 0.1, 'rulings': 0.1, 'hear': 0.1, '12': 0.1, 'digit': 0.1, 'biometric': 0.1, 'identity': 0.1, 'number.?During': 0.1, 'course': 0.1, 'hearing': 0.2, 'today': 0.2, 'essential': 0.1, 'determine': 0.1, 'Constitution': 0.3, 'headed': 0.1, 'Chief': 0.1, 'Justice': 0.1, 'India': 0.1, 'JS': 0.1, 'Khehar': 0.1, 'expected': 0.1, 'conclude': 0.1, 'Wednesday': 0.1, 'itself.?The': 0.1, 'determination': 0.1, 'essentially': 0.1, 'entail': 0.1, 'decision': 0.1, 'recorded': 0.1, '1954': 0.1, '1962': 0.1, 'correct': 0.2, 'expression': 0.1, 'constitutional': 0.1, 'provisions': 0.1, 'court': 0.3, 'decided': 0.1, 'refer': 0.1, 'matter': 0.1, 'larger': 0.1, 'Centre': 0.1, 'cited': 0.1, 'judgments': 0.2, 'argue': 0.2, 'right.?Our': 0.1, 'founding': 0.1, 'fathers': 0.1, 'encompassed': 0.1, 'rights': 0.1, 'consciously': 0.1, 'omitted': 0.1, 'attorney': 0.1, 'general': 0.1, 'KK': 0.1, 'Venugopal': 0.1, 'justice': 0.1, 'J': 0.1, 'Chelameswar': 0.1, 'illogical': 0.1, 'didn?t': 0.1, 'mention': 0.1, 'common': 0.1, 'law': 0.1, 'identified': 0.1, 'it.?Textually': 0.1, 'freedom': 0.1, 'press': 0.1, 'expressly': 0.1, 'stated': 0.1, 'interpreted': 0.1, 'adding': 0.1, 'earlier': 0.1, 'verdicts': 0.1, 'looked': 0.1, 'again.?One': 0.1, 'can?t': 0.1, 'overlook': 0.1, 'constant': 0.1, 'view': 0.1, 'held': 0.1, 'smaller': 0.1, 'benches': 0.1, 'later': 0.1, 'holding': 0.1, 'right.?The': 0.1, 'government': 0.2, 'pushing': 0.1, 'saying': 0.1, 'necessary': 0.1, 'plug': 0.1, 'leakages': 0.1, 'subsidy': 0.1, 'schemes': 0.1, 'ensure': 0.1, 'benefits': 0.1, 'reach': 0.1, 'targeted': 0.1, 'critics': 0.1, 'violates': 0.1, 'vulnerable': 0.1, 'data': 0.1, 'breaches': 0.1, 'helps': 0.1, 'spy': 0.1, 'people': 0.1}\n"
          ]
        }
      ]
    },
    {
      "cell_type": "code",
      "source": [
        "sentence_tokens = [sent for sent in doc.sents]\n",
        "print(sentence_tokens)"
      ],
      "metadata": {
        "colab": {
          "base_uri": "https://localhost:8080/"
        },
        "id": "uubIEomNlPdo",
        "outputId": "4a8eb109-c532-4b6c-b031-f65ecf90f715"
      },
      "execution_count": 62,
      "outputs": [
        {
          "output_type": "stream",
          "name": "stdout",
          "text": [
            "[Is the right to privacy a fundamental right?The question, which forms the basis of petitions that challenge Aadhaar for violating privacy, will be answered by a nine-judge constitution bench., The Supreme Court in Tuesday said the constitution bench would revisit its rulings that said the right to privacy was not a fundamental right and then hear petitions against the 12-digit biometric identity number.?During the course of hearing today it has become essential for us to determine whether right to privacy is a fundamental right under the Constitution,?, a five-judge bench headed by Chief Justice of India JS Khehar said., The nine-judge bench is expected to take up and conclude its hearing on Wednesday itself.?The determination of this question would essentially entail whether the decision recorded by an eight-judge bench in 1954 and also by a six-judge bench in 1962 that there is no such fundamental right is the correct expression of constitutional provisions,?, the court said., The court decided to refer the matter to a larger bench after the Centre cited the two judgments to argue that the right to privacy was not a fundamental right.?Our founding fathers have encompassed all rights., But consciously this is omitted,?, attorney general KK Venugopal said., But justice J Chelameswar said it was illogical to argue that the Constitution didn?t mention the right to privacy while common law identified it.?Textually it is correct today that there is no right to privacy in the Constitution., But even freedom of press is not expressly stated., This court has interpreted it,?, the judge said, adding the earlier verdicts should be looked at again.?One can?t overlook the constant view held by smaller benches in their later judgments holding right to privacy is a fundamental right.?The government is pushing for Aadhaar, saying it is necessary to plug leakages in subsidy schemes and to ensure benefits reach those targeted., But critics say the move violates privacy, is vulnerable to data breaches and helps government spy on people.]\n"
          ]
        }
      ]
    },
    {
      "cell_type": "code",
      "source": [
        "sentence_scores = {}\n",
        "for sent in sentence_tokens:\n",
        "  for word in sent:\n",
        "    if word.text.lower() in word_frequencies.keys():\n",
        "      if sent not in sentence_scores.keys():\n",
        "        sentence_scores[sent] = word_frequencies[word.text.lower()]\n",
        "      else:\n",
        "        sentence_scores[sent] += word_frequencies[word.text.lower()]\n",
        "\n",
        "\n",
        "print(sentence_scores)"
      ],
      "metadata": {
        "colab": {
          "base_uri": "https://localhost:8080/"
        },
        "id": "_hFVXrTIlqJf",
        "outputId": "e98b04ae-d377-40e4-d903-fd66f11e77a9"
      },
      "execution_count": 63,
      "outputs": [
        {
          "output_type": "stream",
          "name": "stdout",
          "text": [
            "{Is the right to privacy a fundamental right?The question, which forms the basis of petitions that challenge Aadhaar for violating privacy, will be answered by a nine-judge constitution bench.: 5.800000000000001, The Supreme Court in Tuesday said the constitution bench would revisit its rulings that said the right to privacy was not a fundamental right and then hear petitions against the 12-digit biometric identity number.?During the course of hearing today it has become essential for us to determine whether right to privacy is a fundamental right under the Constitution,?: 11.399999999999997, a five-judge bench headed by Chief Justice of India JS Khehar said.: 2.2, The nine-judge bench is expected to take up and conclude its hearing on Wednesday itself.?The determination of this question would essentially entail whether the decision recorded by an eight-judge bench in 1954 and also by a six-judge bench in 1962 that there is no such fundamental right is the correct expression of constitutional provisions,?: 7.299999999999999, the court said.: 1.0, The court decided to refer the matter to a larger bench after the Centre cited the two judgments to argue that the right to privacy was not a fundamental right.?Our founding fathers have encompassed all rights.: 4.799999999999998, But consciously this is omitted,?: 0.2, attorney general KK Venugopal said.: 0.8999999999999999, But justice J Chelameswar said it was illogical to argue that the Constitution didn?t mention the right to privacy while common law identified it.?Textually it is correct today that there is no right to privacy in the Constitution.: 6.200000000000001, But even freedom of press is not expressly stated.: 0.4, This court has interpreted it,?: 0.4, the judge said, adding the earlier verdicts should be looked at again.?One can?t overlook the constant view held by smaller benches in their later judgments holding right to privacy is a fundamental right.?The government is pushing for Aadhaar, saying it is necessary to plug leakages in subsidy schemes and to ensure benefits reach those targeted.: 6.599999999999997, But critics say the move violates privacy, is vulnerable to data breaches and helps government spy on people.: 1.9000000000000006}\n"
          ]
        }
      ]
    },
    {
      "cell_type": "code",
      "source": [
        "from heapq import nlargest"
      ],
      "metadata": {
        "id": "EGfY7Idgl0Wf"
      },
      "execution_count": 64,
      "outputs": []
    },
    {
      "cell_type": "code",
      "source": [
        "select_length = int(len(sentence_tokens)*0.2)\n",
        "select_length"
      ],
      "metadata": {
        "colab": {
          "base_uri": "https://localhost:8080/"
        },
        "id": "nmqkCuqil6EH",
        "outputId": "178efd23-b922-4152-ee94-2c0dec730712"
      },
      "execution_count": 71,
      "outputs": [
        {
          "output_type": "execute_result",
          "data": {
            "text/plain": [
              "2"
            ]
          },
          "metadata": {},
          "execution_count": 71
        }
      ]
    },
    {
      "cell_type": "code",
      "source": [
        "summary = nlargest(select_length, sentence_scores, key = sentence_scores.get)"
      ],
      "metadata": {
        "id": "R0rO_IR-l7wa"
      },
      "execution_count": 72,
      "outputs": []
    },
    {
      "cell_type": "code",
      "source": [
        "summary\n"
      ],
      "metadata": {
        "colab": {
          "base_uri": "https://localhost:8080/"
        },
        "id": "Tghjzwd_l-v0",
        "outputId": "12cd072a-2172-472d-e160-9b3b456be6c5"
      },
      "execution_count": 73,
      "outputs": [
        {
          "output_type": "execute_result",
          "data": {
            "text/plain": [
              "[The Supreme Court in Tuesday said the constitution bench would revisit its rulings that said the right to privacy was not a fundamental right and then hear petitions against the 12-digit biometric identity number.?During the course of hearing today it has become essential for us to determine whether right to privacy is a fundamental right under the Constitution,?,\n",
              " The nine-judge bench is expected to take up and conclude its hearing on Wednesday itself.?The determination of this question would essentially entail whether the decision recorded by an eight-judge bench in 1954 and also by a six-judge bench in 1962 that there is no such fundamental right is the correct expression of constitutional provisions,?]"
            ]
          },
          "metadata": {},
          "execution_count": 73
        }
      ]
    },
    {
      "cell_type": "markdown",
      "source": [
        "#Conclusion\n",
        "* there are various other methods and library specially built for text summerization\n",
        "* As this a Extrative approach ..to know about Abstractive apporach will be really interesting\n",
        "* there are methods to actually evaluate the text summerization, its good to know one or two\n",
        "* we can even use Transformers and built text summerization"
      ],
      "metadata": {
        "id": "tdQACCu8pouR"
      }
    },
    {
      "cell_type": "code",
      "source": [],
      "metadata": {
        "id": "8qvdGu7PqBZB"
      },
      "execution_count": null,
      "outputs": []
    }
  ]
}